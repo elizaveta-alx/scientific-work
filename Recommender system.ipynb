{
 "cells": [
  {
   "cell_type": "code",
   "execution_count": 75,
   "id": "67a6d23c",
   "metadata": {},
   "outputs": [],
   "source": [
    "import numpy as np\n",
    "import pandas as pd\n",
    "import matplotlib.pyplot as plt\n",
    "import seaborn as sns\n",
    "from sklearn.model_selection import train_test_split\n",
    "from sklearn.feature_extraction.text import TfidfVectorizer\n",
    "from sklearn.feature_extraction.text import CountVectorizer\n",
    "from nltk.corpus import stopwords \n",
    "from nltk.tokenize import WordPunctTokenizer\n",
    "import glob\n",
    "import os\n",
    "import re\n",
    "import string\n",
    "from nltk.corpus import stopwords\n",
    "from sklearn.metrics.pairwise import linear_kernel\n",
    "import pickle"
   ]
  },
  {
   "cell_type": "markdown",
   "id": "c417076c",
   "metadata": {},
   "source": [
    "# IMPORT DATA"
   ]
  },
  {
   "cell_type": "code",
   "execution_count": 190,
   "id": "2b50bd5f",
   "metadata": {},
   "outputs": [],
   "source": [
    "# setting the path for joining multiple files with restaurant reviews\n",
    "files = os.path.join(\"C:/Users/Elisaveta/Documents/ITMO/НИР/PROJECT/resturaunt_reviews/\", \"restaurant_*.csv\")\n",
    "\n",
    "# list of merged files returned\n",
    "files = glob.glob(files)\n",
    "\n",
    "# joining files with concat and read_csv\n",
    "reviews_df = pd.concat(map(pd.read_csv, files), ignore_index=True)"
   ]
  },
  {
   "cell_type": "code",
   "execution_count": 191,
   "id": "c552bc25",
   "metadata": {},
   "outputs": [
    {
     "data": {
      "text/html": [
       "<div>\n",
       "<style scoped>\n",
       "    .dataframe tbody tr th:only-of-type {\n",
       "        vertical-align: middle;\n",
       "    }\n",
       "\n",
       "    .dataframe tbody tr th {\n",
       "        vertical-align: top;\n",
       "    }\n",
       "\n",
       "    .dataframe thead th {\n",
       "        text-align: right;\n",
       "    }\n",
       "</style>\n",
       "<table border=\"1\" class=\"dataframe\">\n",
       "  <thead>\n",
       "    <tr style=\"text-align: right;\">\n",
       "      <th></th>\n",
       "      <th>restaurant</th>\n",
       "      <th>adress</th>\n",
       "      <th>name</th>\n",
       "      <th>date</th>\n",
       "      <th>review</th>\n",
       "      <th>rating</th>\n",
       "    </tr>\n",
       "  </thead>\n",
       "  <tbody>\n",
       "    <tr>\n",
       "      <th>0</th>\n",
       "      <td>all Seasons</td>\n",
       "      <td>Большая Морская ул., 34, Санкт-Петербург, Росс...</td>\n",
       "      <td>Дмитрий Контраст</td>\n",
       "      <td>7 месяцев назад</td>\n",
       "      <td>Первый раз в данном ресторане, сюда нас пригла...</td>\n",
       "      <td>5</td>\n",
       "    </tr>\n",
       "    <tr>\n",
       "      <th>1</th>\n",
       "      <td>all Seasons</td>\n",
       "      <td>Большая Морская ул., 34, Санкт-Петербург, Росс...</td>\n",
       "      <td>полина никулина</td>\n",
       "      <td>7 месяцев назад</td>\n",
       "      <td>Итак, в ресторане взяли «Зимний сет». Шеф и по...</td>\n",
       "      <td>3</td>\n",
       "    </tr>\n",
       "    <tr>\n",
       "      <th>2</th>\n",
       "      <td>all Seasons</td>\n",
       "      <td>Большая Морская ул., 34, Санкт-Петербург, Росс...</td>\n",
       "      <td>Maria ignatenko</td>\n",
       "      <td>11 месяцев назад</td>\n",
       "      <td>Очень атмосферное заведение. Шикарная подача б...</td>\n",
       "      <td>5</td>\n",
       "    </tr>\n",
       "    <tr>\n",
       "      <th>3</th>\n",
       "      <td>all Seasons</td>\n",
       "      <td>Большая Морская ул., 34, Санкт-Петербург, Росс...</td>\n",
       "      <td>Ekaterina Bagdasarova</td>\n",
       "      <td>год назад</td>\n",
       "      <td>Ваууууу. Других слов нет!\\nРекомендую!\\nНеверо...</td>\n",
       "      <td>5</td>\n",
       "    </tr>\n",
       "    <tr>\n",
       "      <th>4</th>\n",
       "      <td>all Seasons</td>\n",
       "      <td>Большая Морская ул., 34, Санкт-Петербург, Росс...</td>\n",
       "      <td>Роман Левин</td>\n",
       "      <td>год назад</td>\n",
       "      <td>Были в этом ресторане уже дважды, планируем ещ...</td>\n",
       "      <td>5</td>\n",
       "    </tr>\n",
       "  </tbody>\n",
       "</table>\n",
       "</div>"
      ],
      "text/plain": [
       "    restaurant                                             adress  \\\n",
       "0  all Seasons  Большая Морская ул., 34, Санкт-Петербург, Росс...   \n",
       "1  all Seasons  Большая Морская ул., 34, Санкт-Петербург, Росс...   \n",
       "2  all Seasons  Большая Морская ул., 34, Санкт-Петербург, Росс...   \n",
       "3  all Seasons  Большая Морская ул., 34, Санкт-Петербург, Росс...   \n",
       "4  all Seasons  Большая Морская ул., 34, Санкт-Петербург, Росс...   \n",
       "\n",
       "                    name              date  \\\n",
       "0       Дмитрий Контраст   7 месяцев назад   \n",
       "1        полина никулина   7 месяцев назад   \n",
       "2        Maria ignatenko  11 месяцев назад   \n",
       "3  Ekaterina Bagdasarova         год назад   \n",
       "4            Роман Левин         год назад   \n",
       "\n",
       "                                              review  rating  \n",
       "0  Первый раз в данном ресторане, сюда нас пригла...       5  \n",
       "1  Итак, в ресторане взяли «Зимний сет». Шеф и по...       3  \n",
       "2  Очень атмосферное заведение. Шикарная подача б...       5  \n",
       "3  Ваууууу. Других слов нет!\\nРекомендую!\\nНеверо...       5  \n",
       "4  Были в этом ресторане уже дважды, планируем ещ...       5  "
      ]
     },
     "execution_count": 191,
     "metadata": {},
     "output_type": "execute_result"
    }
   ],
   "source": [
    "reviews_df.head()"
   ]
  },
  {
   "cell_type": "code",
   "execution_count": 193,
   "id": "b22a71a7",
   "metadata": {},
   "outputs": [],
   "source": [
    "reviews_df = reviews_df[~reviews_df['rating'].isin([7,8])]"
   ]
  },
  {
   "cell_type": "code",
   "execution_count": 194,
   "id": "3b0b720a",
   "metadata": {},
   "outputs": [],
   "source": [
    "ratings_mean_count = pd.DataFrame(reviews_df.groupby('restaurant')['rating'].mean().round(2))\n",
    "ratings_mean_count['rating_counts'] = pd.DataFrame(reviews_df.groupby('restaurant')['rating'].count())\n",
    "ratings_mean_count = ratings_mean_count.reset_index()"
   ]
  },
  {
   "cell_type": "code",
   "execution_count": 195,
   "id": "186fedfa",
   "metadata": {},
   "outputs": [],
   "source": [
    "count_rating = reviews_df.groupby('rating')['restaurant'].count()\n",
    "count_rating = count_rating.reset_index()"
   ]
  },
  {
   "cell_type": "code",
   "execution_count": 210,
   "id": "9937fcb9",
   "metadata": {},
   "outputs": [
    {
     "data": {
      "image/png": "[encoded data removed]",
      "text/plain": [
       "<Figure size 864x432 with 1 Axes>"
      ]
     },
     "metadata": {
      "needs_background": "light"
     },
     "output_type": "display_data"
    }
   ],
   "source": [
    "%matplotlib inline\n",
    "import numpy as np\n",
    "import matplotlib.pyplot as plt\n",
    "\n",
    "fig, ax = plt.subplots()\n",
    "\n",
    "ax.bar(rest_rating.rating, rest_rating.restaurant)\n",
    "\n",
    "\n",
    "fig.set_figwidth(12)    #  ширина Figure\n",
    "fig.set_figheight(6)    #  высота Figure\n",
    "plt.title('Distribution of restaurant reviews by rating')\n",
    "plt.show()"
   ]
  },
  {
   "cell_type": "code",
   "execution_count": 197,
   "id": "cc5b1376",
   "metadata": {},
   "outputs": [
    {
     "data": {
      "application/vnd.plotly.v1+json": {
       "config": {
        "plotlyServerURL": "https://plot.ly"
       },
       "data": [
        {
         "alignmentgroup": "True",
         "hovertemplate": "rating_counts=%{y}<extra></extra>",
         "legendgroup": "",
         "marker": {
          "color": "#636efa"
         },
         "name": "",
         "notched": false,
         "offsetgroup": "",
         "orientation": "v",
         "showlegend": false,
         "type": "box",
         "x0": " ",
         "xaxis": "x",
         "y": [
          466,
          930,
          930,
          930,
          522,
          930,
          930,
          930,
          930,
          167,
          710,
          11,
          541,
          10,
          930,
          930,
          930,
          930,
          545,
          930,
          850,
          442,
          11,
          362,
          311,
          144,
          270,
          485,
          680,
          151,
          11,
          381,
          855,
          30,
          407,
          834,
          889,
          930,
          930,
          78,
          930,
          930,
          930,
          472,
          409,
          724,
          930,
          422,
          930,
          142,
          638,
          930,
          930,
          377,
          430,
          930,
          893,
          930,
          572,
          930,
          930,
          930,
          802,
          930,
          930,
          320,
          930,
          930,
          930,
          508,
          930,
          930,
          930,
          930,
          778,
          930,
          169,
          170,
          930,
          930,
          361,
          930,
          590,
          46,
          910,
          378,
          110,
          251,
          1090,
          169,
          930,
          930,
          930,
          707,
          200,
          930,
          437,
          177,
          930,
          930,
          930,
          930,
          930,
          492,
          662,
          136,
          70,
          930,
          10,
          502,
          483,
          930,
          930,
          555,
          850,
          930
         ],
         "y0": " ",
         "yaxis": "y"
        }
       ],
       "layout": {
        "boxmode": "group",
        "legend": {
         "tracegroupgap": 0
        },
        "template": {
         "data": {
          "bar": [
           {
            "error_x": {
             "color": "#2a3f5f"
            },
            "error_y": {
             "color": "#2a3f5f"
            },
            "marker": {
             "line": {
              "color": "#E5ECF6",
              "width": 0.5
             },
             "pattern": {
              "fillmode": "overlay",
              "size": 10,
              "solidity": 0.2
             }
            },
            "type": "bar"
           }
          ],
          "barpolar": [
           {
            "marker": {
             "line": {
              "color": "#E5ECF6",
              "width": 0.5
             },
             "pattern": {
              "fillmode": "overlay",
              "size": 10,
              "solidity": 0.2
             }
            },
            "type": "barpolar"
           }
          ],
          "carpet": [
           {
            "aaxis": {
             "endlinecolor": "#2a3f5f",
             "gridcolor": "white",
             "linecolor": "white",
             "minorgridcolor": "white",
             "startlinecolor": "#2a3f5f"
            },
            "baxis": {
             "endlinecolor": "#2a3f5f",
             "gridcolor": "white",
             "linecolor": "white",
             "minorgridcolor": "white",
             "startlinecolor": "#2a3f5f"
            },
            "type": "carpet"
           }
          ],
          "choropleth": [
           {
            "colorbar": {
             "outlinewidth": 0,
             "ticks": ""
            },
            "type": "choropleth"
           }
          ],
          "contour": [
           {
            "colorbar": {
             "outlinewidth": 0,
             "ticks": ""
            },
            "colorscale": [
             [
              0,
              "#0d0887"
             ],
             [
              0.1111111111111111,
              "#46039f"
             ],
             [
              0.2222222222222222,
              "#7201a8"
             ],
             [
              0.3333333333333333,
              "#9c179e"
             ],
             [
              0.4444444444444444,
              "#bd3786"
             ],
             [
              0.5555555555555556,
              "#d8576b"
             ],
             [
              0.6666666666666666,
              "#ed7953"
             ],
             [
              0.7777777777777778,
              "#fb9f3a"
             ],
             [
              0.8888888888888888,
              "#fdca26"
             ],
             [
              1,
              "#f0f921"
             ]
            ],
            "type": "contour"
           }
          ],
          "contourcarpet": [
           {
            "colorbar": {
             "outlinewidth": 0,
             "ticks": ""
            },
            "type": "contourcarpet"
           }
          ],
          "heatmap": [
           {
            "colorbar": {
             "outlinewidth": 0,
             "ticks": ""
            },
            "colorscale": [
             [
              0,
              "#0d0887"
             ],
             [
              0.1111111111111111,
              "#46039f"
             ],
             [
              0.2222222222222222,
              "#7201a8"
             ],
             [
              0.3333333333333333,
              "#9c179e"
             ],
             [
              0.4444444444444444,
              "#bd3786"
             ],
             [
              0.5555555555555556,
              "#d8576b"
             ],
             [
              0.6666666666666666,
              "#ed7953"
             ],
             [
              0.7777777777777778,
              "#fb9f3a"
             ],
             [
              0.8888888888888888,
              "#fdca26"
             ],
             [
              1,
              "#f0f921"
             ]
            ],
            "type": "heatmap"
           }
          ],
          "heatmapgl": [
           {
            "colorbar": {
             "outlinewidth": 0,
             "ticks": ""
            },
            "colorscale": [
             [
              0,
              "#0d0887"
             ],
             [
              0.1111111111111111,
              "#46039f"
             ],
             [
              0.2222222222222222,
              "#7201a8"
             ],
             [
              0.3333333333333333,
              "#9c179e"
             ],
             [
              0.4444444444444444,
              "#bd3786"
             ],
             [
              0.5555555555555556,
              "#d8576b"
             ],
             [
              0.6666666666666666,
              "#ed7953"
             ],
             [
              0.7777777777777778,
              "#fb9f3a"
             ],
             [
              0.8888888888888888,
              "#fdca26"
             ],
             [
              1,
              "#f0f921"
             ]
            ],
            "type": "heatmapgl"
           }
          ],
          "histogram": [
           {
            "marker": {
             "pattern": {
              "fillmode": "overlay",
              "size": 10,
              "solidity": 0.2
             }
            },
            "type": "histogram"
           }
          ],
          "histogram2d": [
           {
            "colorbar": {
             "outlinewidth": 0,
             "ticks": ""
            },
            "colorscale": [
             [
              0,
              "#0d0887"
             ],
             [
              0.1111111111111111,
              "#46039f"
             ],
             [
              0.2222222222222222,
              "#7201a8"
             ],
             [
              0.3333333333333333,
              "#9c179e"
             ],
             [
              0.4444444444444444,
              "#bd3786"
             ],
             [
              0.5555555555555556,
              "#d8576b"
             ],
             [
              0.6666666666666666,
              "#ed7953"
             ],
             [
              0.7777777777777778,
              "#fb9f3a"
             ],
             [
              0.8888888888888888,
              "#fdca26"
             ],
             [
              1,
              "#f0f921"
             ]
            ],
            "type": "histogram2d"
           }
          ],
          "histogram2dcontour": [
           {
            "colorbar": {
             "outlinewidth": 0,
             "ticks": ""
            },
            "colorscale": [
             [
              0,
              "#0d0887"
             ],
             [
              0.1111111111111111,
              "#46039f"
             ],
             [
              0.2222222222222222,
              "#7201a8"
             ],
             [
              0.3333333333333333,
              "#9c179e"
             ],
             [
              0.4444444444444444,
              "#bd3786"
             ],
             [
              0.5555555555555556,
              "#d8576b"
             ],
             [
              0.6666666666666666,
              "#ed7953"
             ],
             [
              0.7777777777777778,
              "#fb9f3a"
             ],
             [
              0.8888888888888888,
              "#fdca26"
             ],
             [
              1,
              "#f0f921"
             ]
            ],
            "type": "histogram2dcontour"
           }
          ],
          "mesh3d": [
           {
            "colorbar": {
             "outlinewidth": 0,
             "ticks": ""
            },
            "type": "mesh3d"
           }
          ],
          "parcoords": [
           {
            "line": {
             "colorbar": {
              "outlinewidth": 0,
              "ticks": ""
             }
            },
            "type": "parcoords"
           }
          ],
          "pie": [
           {
            "automargin": true,
            "type": "pie"
           }
          ],
          "scatter": [
           {
            "marker": {
             "colorbar": {
              "outlinewidth": 0,
              "ticks": ""
             }
            },
            "type": "scatter"
           }
          ],
          "scatter3d": [
           {
            "line": {
             "colorbar": {
              "outlinewidth": 0,
              "ticks": ""
             }
            },
            "marker": {
             "colorbar": {
              "outlinewidth": 0,
              "ticks": ""
             }
            },
            "type": "scatter3d"
           }
          ],
          "scattercarpet": [
           {
            "marker": {
             "colorbar": {
              "outlinewidth": 0,
              "ticks": ""
             }
            },
            "type": "scattercarpet"
           }
          ],
          "scattergeo": [
           {
            "marker": {
             "colorbar": {
              "outlinewidth": 0,
              "ticks": ""
             }
            },
            "type": "scattergeo"
           }
          ],
          "scattergl": [
           {
            "marker": {
             "colorbar": {
              "outlinewidth": 0,
              "ticks": ""
             }
            },
            "type": "scattergl"
           }
          ],
          "scattermapbox": [
           {
            "marker": {
             "colorbar": {
              "outlinewidth": 0,
              "ticks": ""
             }
            },
            "type": "scattermapbox"
           }
          ],
          "scatterpolar": [
           {
            "marker": {
             "colorbar": {
              "outlinewidth": 0,
              "ticks": ""
             }
            },
            "type": "scatterpolar"
           }
          ],
          "scatterpolargl": [
           {
            "marker": {
             "colorbar": {
              "outlinewidth": 0,
              "ticks": ""
             }
            },
            "type": "scatterpolargl"
           }
          ],
          "scatterternary": [
           {
            "marker": {
             "colorbar": {
              "outlinewidth": 0,
              "ticks": ""
             }
            },
            "type": "scatterternary"
           }
          ],
          "surface": [
           {
            "colorbar": {
             "outlinewidth": 0,
             "ticks": ""
            },
            "colorscale": [
             [
              0,
              "#0d0887"
             ],
             [
              0.1111111111111111,
              "#46039f"
             ],
             [
              0.2222222222222222,
              "#7201a8"
             ],
             [
              0.3333333333333333,
              "#9c179e"
             ],
             [
              0.4444444444444444,
              "#bd3786"
             ],
             [
              0.5555555555555556,
              "#d8576b"
             ],
             [
              0.6666666666666666,
              "#ed7953"
             ],
             [
              0.7777777777777778,
              "#fb9f3a"
             ],
             [
              0.8888888888888888,
              "#fdca26"
             ],
             [
              1,
              "#f0f921"
             ]
            ],
            "type": "surface"
           }
          ],
          "table": [
           {
            "cells": {
             "fill": {
              "color": "#EBF0F8"
             },
             "line": {
              "color": "white"
             }
            },
            "header": {
             "fill": {
              "color": "#C8D4E3"
             },
             "line": {
              "color": "white"
             }
            },
            "type": "table"
           }
          ]
         },
         "layout": {
          "annotationdefaults": {
           "arrowcolor": "#2a3f5f",
           "arrowhead": 0,
           "arrowwidth": 1
          },
          "autotypenumbers": "strict",
          "coloraxis": {
           "colorbar": {
            "outlinewidth": 0,
            "ticks": ""
           }
          },
          "colorscale": {
           "diverging": [
            [
             0,
             "#8e0152"
            ],
            [
             0.1,
             "#c51b7d"
            ],
            [
             0.2,
             "#de77ae"
            ],
            [
             0.3,
             "#f1b6da"
            ],
            [
             0.4,
             "#fde0ef"
            ],
            [
             0.5,
             "#f7f7f7"
            ],
            [
             0.6,
             "#e6f5d0"
            ],
            [
             0.7,
             "#b8e186"
            ],
            [
             0.8,
             "#7fbc41"
            ],
            [
             0.9,
             "#4d9221"
            ],
            [
             1,
             "#276419"
            ]
           ],
           "sequential": [
            [
             0,
             "#0d0887"
            ],
            [
             0.1111111111111111,
             "#46039f"
            ],
            [
             0.2222222222222222,
             "#7201a8"
            ],
            [
             0.3333333333333333,
             "#9c179e"
            ],
            [
             0.4444444444444444,
             "#bd3786"
            ],
            [
             0.5555555555555556,
             "#d8576b"
            ],
            [
             0.6666666666666666,
             "#ed7953"
            ],
            [
             0.7777777777777778,
             "#fb9f3a"
            ],
            [
             0.8888888888888888,
             "#fdca26"
            ],
            [
             1,
             "#f0f921"
            ]
           ],
           "sequentialminus": [
            [
             0,
             "#0d0887"
            ],
            [
             0.1111111111111111,
             "#46039f"
            ],
            [
             0.2222222222222222,
             "#7201a8"
            ],
            [
             0.3333333333333333,
             "#9c179e"
            ],
            [
             0.4444444444444444,
             "#bd3786"
            ],
            [
             0.5555555555555556,
             "#d8576b"
            ],
            [
             0.6666666666666666,
             "#ed7953"
            ],
            [
             0.7777777777777778,
             "#fb9f3a"
            ],
            [
             0.8888888888888888,
             "#fdca26"
            ],
            [
             1,
             "#f0f921"
            ]
           ]
          },
          "colorway": [
           "#636efa",
           "#EF553B",
           "#00cc96",
           "#ab63fa",
           "#FFA15A",
           "#19d3f3",
           "#FF6692",
           "#B6E880",
           "#FF97FF",
           "#FECB52"
          ],
          "font": {
           "color": "#2a3f5f"
          },
          "geo": {
           "bgcolor": "white",
           "lakecolor": "white",
           "landcolor": "#E5ECF6",
           "showlakes": true,
           "showland": true,
           "subunitcolor": "white"
          },
          "hoverlabel": {
           "align": "left"
          },
          "hovermode": "closest",
          "mapbox": {
           "style": "light"
          },
          "paper_bgcolor": "white",
          "plot_bgcolor": "#E5ECF6",
          "polar": {
           "angularaxis": {
            "gridcolor": "white",
            "linecolor": "white",
            "ticks": ""
           },
           "bgcolor": "#E5ECF6",
           "radialaxis": {
            "gridcolor": "white",
            "linecolor": "white",
            "ticks": ""
           }
          },
          "scene": {
           "xaxis": {
            "backgroundcolor": "#E5ECF6",
            "gridcolor": "white",
            "gridwidth": 2,
            "linecolor": "white",
            "showbackground": true,
            "ticks": "",
            "zerolinecolor": "white"
           },
           "yaxis": {
            "backgroundcolor": "#E5ECF6",
            "gridcolor": "white",
            "gridwidth": 2,
            "linecolor": "white",
            "showbackground": true,
            "ticks": "",
            "zerolinecolor": "white"
           },
           "zaxis": {
            "backgroundcolor": "#E5ECF6",
            "gridcolor": "white",
            "gridwidth": 2,
            "linecolor": "white",
            "showbackground": true,
            "ticks": "",
            "zerolinecolor": "white"
           }
          },
          "shapedefaults": {
           "line": {
            "color": "#2a3f5f"
           }
          },
          "ternary": {
           "aaxis": {
            "gridcolor": "white",
            "linecolor": "white",
            "ticks": ""
           },
           "baxis": {
            "gridcolor": "white",
            "linecolor": "white",
            "ticks": ""
           },
           "bgcolor": "#E5ECF6",
           "caxis": {
            "gridcolor": "white",
            "linecolor": "white",
            "ticks": ""
           }
          },
          "title": {
           "x": 0.05
          },
          "xaxis": {
           "automargin": true,
           "gridcolor": "white",
           "linecolor": "white",
           "ticks": "",
           "title": {
            "standoff": 15
           },
           "zerolinecolor": "white",
           "zerolinewidth": 2
          },
          "yaxis": {
           "automargin": true,
           "gridcolor": "white",
           "linecolor": "white",
           "ticks": "",
           "title": {
            "standoff": 15
           },
           "zerolinecolor": "white",
           "zerolinewidth": 2
          }
         }
        },
        "title": {
         "text": "Box plot of number of restaurant reviews"
        },
        "xaxis": {
         "anchor": "y",
         "domain": [
          0,
          1
         ]
        },
        "yaxis": {
         "anchor": "x",
         "domain": [
          0,
          1
         ],
         "title": {
          "text": "rating_counts"
         }
        }
       }
      },
      "text/html": [
       "<div>                            <div id=\"055c71ba-eb38-4e7d-902e-181ea13b4224\" class=\"plotly-graph-div\" style=\"height:525px; width:100%;\"></div>            <script type=\"text/javascript\">                require([\"plotly\"], function(Plotly) {                    window.PLOTLYENV=window.PLOTLYENV || {};                                    if (document.getElementById(\"055c71ba-eb38-4e7d-902e-181ea13b4224\")) {                    Plotly.newPlot(                        \"055c71ba-eb38-4e7d-902e-181ea13b4224\",                        [{\"alignmentgroup\":\"True\",\"hovertemplate\":\"rating_counts=%{y}<extra></extra>\",\"legendgroup\":\"\",\"marker\":{\"color\":\"#636efa\"},\"name\":\"\",\"notched\":false,\"offsetgroup\":\"\",\"orientation\":\"v\",\"showlegend\":false,\"x0\":\" \",\"xaxis\":\"x\",\"y\":[466,930,930,930,522,930,930,930,930,167,710,11,541,10,930,930,930,930,545,930,850,442,11,362,311,144,270,485,680,151,11,381,855,30,407,834,889,930,930,78,930,930,930,472,409,724,930,422,930,142,638,930,930,377,430,930,893,930,572,930,930,930,802,930,930,320,930,930,930,508,930,930,930,930,778,930,169,170,930,930,361,930,590,46,910,378,110,251,1090,169,930,930,930,707,200,930,437,177,930,930,930,930,930,492,662,136,70,930,10,502,483,930,930,555,850,930],\"y0\":\" \",\"yaxis\":\"y\",\"type\":\"box\"}],                        {\"template\":{\"data\":{\"bar\":[{\"error_x\":{\"color\":\"#2a3f5f\"},\"error_y\":{\"color\":\"#2a3f5f\"},\"marker\":{\"line\":{\"color\":\"#E5ECF6\",\"width\":0.5},\"pattern\":{\"fillmode\":\"overlay\",\"size\":10,\"solidity\":0.2}},\"type\":\"bar\"}],\"barpolar\":[{\"marker\":{\"line\":{\"color\":\"#E5ECF6\",\"width\":0.5},\"pattern\":{\"fillmode\":\"overlay\",\"size\":10,\"solidity\":0.2}},\"type\":\"barpolar\"}],\"carpet\":[{\"aaxis\":{\"endlinecolor\":\"#2a3f5f\",\"gridcolor\":\"white\",\"linecolor\":\"white\",\"minorgridcolor\":\"white\",\"startlinecolor\":\"#2a3f5f\"},\"baxis\":{\"endlinecolor\":\"#2a3f5f\",\"gridcolor\":\"white\",\"linecolor\":\"white\",\"minorgridcolor\":\"white\",\"startlinecolor\":\"#2a3f5f\"},\"type\":\"carpet\"}],\"choropleth\":[{\"colorbar\":{\"outlinewidth\":0,\"ticks\":\"\"},\"type\":\"choropleth\"}],\"contour\":[{\"colorbar\":{\"outlinewidth\":0,\"ticks\":\"\"},\"colorscale\":[[0.0,\"#0d0887\"],[0.1111111111111111,\"#46039f\"],[0.2222222222222222,\"#7201a8\"],[0.3333333333333333,\"#9c179e\"],[0.4444444444444444,\"#bd3786\"],[0.5555555555555556,\"#d8576b\"],[0.6666666666666666,\"#ed7953\"],[0.7777777777777778,\"#fb9f3a\"],[0.8888888888888888,\"#fdca26\"],[1.0,\"#f0f921\"]],\"type\":\"contour\"}],\"contourcarpet\":[{\"colorbar\":{\"outlinewidth\":0,\"ticks\":\"\"},\"type\":\"contourcarpet\"}],\"heatmap\":[{\"colorbar\":{\"outlinewidth\":0,\"ticks\":\"\"},\"colorscale\":[[0.0,\"#0d0887\"],[0.1111111111111111,\"#46039f\"],[0.2222222222222222,\"#7201a8\"],[0.3333333333333333,\"#9c179e\"],[0.4444444444444444,\"#bd3786\"],[0.5555555555555556,\"#d8576b\"],[0.6666666666666666,\"#ed7953\"],[0.7777777777777778,\"#fb9f3a\"],[0.8888888888888888,\"#fdca26\"],[1.0,\"#f0f921\"]],\"type\":\"heatmap\"}],\"heatmapgl\":[{\"colorbar\":{\"outlinewidth\":0,\"ticks\":\"\"},\"colorscale\":[[0.0,\"#0d0887\"],[0.1111111111111111,\"#46039f\"],[0.2222222222222222,\"#7201a8\"],[0.3333333333333333,\"#9c179e\"],[0.4444444444444444,\"#bd3786\"],[0.5555555555555556,\"#d8576b\"],[0.6666666666666666,\"#ed7953\"],[0.7777777777777778,\"#fb9f3a\"],[0.8888888888888888,\"#fdca26\"],[1.0,\"#f0f921\"]],\"type\":\"heatmapgl\"}],\"histogram\":[{\"marker\":{\"pattern\":{\"fillmode\":\"overlay\",\"size\":10,\"solidity\":0.2}},\"type\":\"histogram\"}],\"histogram2d\":[{\"colorbar\":{\"outlinewidth\":0,\"ticks\":\"\"},\"colorscale\":[[0.0,\"#0d0887\"],[0.1111111111111111,\"#46039f\"],[0.2222222222222222,\"#7201a8\"],[0.3333333333333333,\"#9c179e\"],[0.4444444444444444,\"#bd3786\"],[0.5555555555555556,\"#d8576b\"],[0.6666666666666666,\"#ed7953\"],[0.7777777777777778,\"#fb9f3a\"],[0.8888888888888888,\"#fdca26\"],[1.0,\"#f0f921\"]],\"type\":\"histogram2d\"}],\"histogram2dcontour\":[{\"colorbar\":{\"outlinewidth\":0,\"ticks\":\"\"},\"colorscale\":[[0.0,\"#0d0887\"],[0.1111111111111111,\"#46039f\"],[0.2222222222222222,\"#7201a8\"],[0.3333333333333333,\"#9c179e\"],[0.4444444444444444,\"#bd3786\"],[0.5555555555555556,\"#d8576b\"],[0.6666666666666666,\"#ed7953\"],[0.7777777777777778,\"#fb9f3a\"],[0.8888888888888888,\"#fdca26\"],[1.0,\"#f0f921\"]],\"type\":\"histogram2dcontour\"}],\"mesh3d\":[{\"colorbar\":{\"outlinewidth\":0,\"ticks\":\"\"},\"type\":\"mesh3d\"}],\"parcoords\":[{\"line\":{\"colorbar\":{\"outlinewidth\":0,\"ticks\":\"\"}},\"type\":\"parcoords\"}],\"pie\":[{\"automargin\":true,\"type\":\"pie\"}],\"scatter\":[{\"marker\":{\"colorbar\":{\"outlinewidth\":0,\"ticks\":\"\"}},\"type\":\"scatter\"}],\"scatter3d\":[{\"line\":{\"colorbar\":{\"outlinewidth\":0,\"ticks\":\"\"}},\"marker\":{\"colorbar\":{\"outlinewidth\":0,\"ticks\":\"\"}},\"type\":\"scatter3d\"}],\"scattercarpet\":[{\"marker\":{\"colorbar\":{\"outlinewidth\":0,\"ticks\":\"\"}},\"type\":\"scattercarpet\"}],\"scattergeo\":[{\"marker\":{\"colorbar\":{\"outlinewidth\":0,\"ticks\":\"\"}},\"type\":\"scattergeo\"}],\"scattergl\":[{\"marker\":{\"colorbar\":{\"outlinewidth\":0,\"ticks\":\"\"}},\"type\":\"scattergl\"}],\"scattermapbox\":[{\"marker\":{\"colorbar\":{\"outlinewidth\":0,\"ticks\":\"\"}},\"type\":\"scattermapbox\"}],\"scatterpolar\":[{\"marker\":{\"colorbar\":{\"outlinewidth\":0,\"ticks\":\"\"}},\"type\":\"scatterpolar\"}],\"scatterpolargl\":[{\"marker\":{\"colorbar\":{\"outlinewidth\":0,\"ticks\":\"\"}},\"type\":\"scatterpolargl\"}],\"scatterternary\":[{\"marker\":{\"colorbar\":{\"outlinewidth\":0,\"ticks\":\"\"}},\"type\":\"scatterternary\"}],\"surface\":[{\"colorbar\":{\"outlinewidth\":0,\"ticks\":\"\"},\"colorscale\":[[0.0,\"#0d0887\"],[0.1111111111111111,\"#46039f\"],[0.2222222222222222,\"#7201a8\"],[0.3333333333333333,\"#9c179e\"],[0.4444444444444444,\"#bd3786\"],[0.5555555555555556,\"#d8576b\"],[0.6666666666666666,\"#ed7953\"],[0.7777777777777778,\"#fb9f3a\"],[0.8888888888888888,\"#fdca26\"],[1.0,\"#f0f921\"]],\"type\":\"surface\"}],\"table\":[{\"cells\":{\"fill\":{\"color\":\"#EBF0F8\"},\"line\":{\"color\":\"white\"}},\"header\":{\"fill\":{\"color\":\"#C8D4E3\"},\"line\":{\"color\":\"white\"}},\"type\":\"table\"}]},\"layout\":{\"annotationdefaults\":{\"arrowcolor\":\"#2a3f5f\",\"arrowhead\":0,\"arrowwidth\":1},\"autotypenumbers\":\"strict\",\"coloraxis\":{\"colorbar\":{\"outlinewidth\":0,\"ticks\":\"\"}},\"colorscale\":{\"diverging\":[[0,\"#8e0152\"],[0.1,\"#c51b7d\"],[0.2,\"#de77ae\"],[0.3,\"#f1b6da\"],[0.4,\"#fde0ef\"],[0.5,\"#f7f7f7\"],[0.6,\"#e6f5d0\"],[0.7,\"#b8e186\"],[0.8,\"#7fbc41\"],[0.9,\"#4d9221\"],[1,\"#276419\"]],\"sequential\":[[0.0,\"#0d0887\"],[0.1111111111111111,\"#46039f\"],[0.2222222222222222,\"#7201a8\"],[0.3333333333333333,\"#9c179e\"],[0.4444444444444444,\"#bd3786\"],[0.5555555555555556,\"#d8576b\"],[0.6666666666666666,\"#ed7953\"],[0.7777777777777778,\"#fb9f3a\"],[0.8888888888888888,\"#fdca26\"],[1.0,\"#f0f921\"]],\"sequentialminus\":[[0.0,\"#0d0887\"],[0.1111111111111111,\"#46039f\"],[0.2222222222222222,\"#7201a8\"],[0.3333333333333333,\"#9c179e\"],[0.4444444444444444,\"#bd3786\"],[0.5555555555555556,\"#d8576b\"],[0.6666666666666666,\"#ed7953\"],[0.7777777777777778,\"#fb9f3a\"],[0.8888888888888888,\"#fdca26\"],[1.0,\"#f0f921\"]]},\"colorway\":[\"#636efa\",\"#EF553B\",\"#00cc96\",\"#ab63fa\",\"#FFA15A\",\"#19d3f3\",\"#FF6692\",\"#B6E880\",\"#FF97FF\",\"#FECB52\"],\"font\":{\"color\":\"#2a3f5f\"},\"geo\":{\"bgcolor\":\"white\",\"lakecolor\":\"white\",\"landcolor\":\"#E5ECF6\",\"showlakes\":true,\"showland\":true,\"subunitcolor\":\"white\"},\"hoverlabel\":{\"align\":\"left\"},\"hovermode\":\"closest\",\"mapbox\":{\"style\":\"light\"},\"paper_bgcolor\":\"white\",\"plot_bgcolor\":\"#E5ECF6\",\"polar\":{\"angularaxis\":{\"gridcolor\":\"white\",\"linecolor\":\"white\",\"ticks\":\"\"},\"bgcolor\":\"#E5ECF6\",\"radialaxis\":{\"gridcolor\":\"white\",\"linecolor\":\"white\",\"ticks\":\"\"}},\"scene\":{\"xaxis\":{\"backgroundcolor\":\"#E5ECF6\",\"gridcolor\":\"white\",\"gridwidth\":2,\"linecolor\":\"white\",\"showbackground\":true,\"ticks\":\"\",\"zerolinecolor\":\"white\"},\"yaxis\":{\"backgroundcolor\":\"#E5ECF6\",\"gridcolor\":\"white\",\"gridwidth\":2,\"linecolor\":\"white\",\"showbackground\":true,\"ticks\":\"\",\"zerolinecolor\":\"white\"},\"zaxis\":{\"backgroundcolor\":\"#E5ECF6\",\"gridcolor\":\"white\",\"gridwidth\":2,\"linecolor\":\"white\",\"showbackground\":true,\"ticks\":\"\",\"zerolinecolor\":\"white\"}},\"shapedefaults\":{\"line\":{\"color\":\"#2a3f5f\"}},\"ternary\":{\"aaxis\":{\"gridcolor\":\"white\",\"linecolor\":\"white\",\"ticks\":\"\"},\"baxis\":{\"gridcolor\":\"white\",\"linecolor\":\"white\",\"ticks\":\"\"},\"bgcolor\":\"#E5ECF6\",\"caxis\":{\"gridcolor\":\"white\",\"linecolor\":\"white\",\"ticks\":\"\"}},\"title\":{\"x\":0.05},\"xaxis\":{\"automargin\":true,\"gridcolor\":\"white\",\"linecolor\":\"white\",\"ticks\":\"\",\"title\":{\"standoff\":15},\"zerolinecolor\":\"white\",\"zerolinewidth\":2},\"yaxis\":{\"automargin\":true,\"gridcolor\":\"white\",\"linecolor\":\"white\",\"ticks\":\"\",\"title\":{\"standoff\":15},\"zerolinecolor\":\"white\",\"zerolinewidth\":2}}},\"xaxis\":{\"anchor\":\"y\",\"domain\":[0.0,1.0]},\"yaxis\":{\"anchor\":\"x\",\"domain\":[0.0,1.0],\"title\":{\"text\":\"rating_counts\"}},\"legend\":{\"tracegroupgap\":0},\"title\":{\"text\":\"Box plot of number of restaurant reviews\"},\"boxmode\":\"group\"},                        {\"responsive\": true}                    ).then(function(){\n",
       "                            \n",
       "var gd = document.getElementById('055c71ba-eb38-4e7d-902e-181ea13b4224');\n",
       "var x = new MutationObserver(function (mutations, observer) {{\n",
       "        var display = window.getComputedStyle(gd).display;\n",
       "        if (!display || display === 'none') {{\n",
       "            console.log([gd, 'removed!']);\n",
       "            Plotly.purge(gd);\n",
       "            observer.disconnect();\n",
       "        }}\n",
       "}});\n",
       "\n",
       "// Listen for the removal of the full notebook cells\n",
       "var notebookContainer = gd.closest('#notebook-container');\n",
       "if (notebookContainer) {{\n",
       "    x.observe(notebookContainer, {childList: true});\n",
       "}}\n",
       "\n",
       "// Listen for the clearing of the current output cell\n",
       "var outputEl = gd.closest('.output');\n",
       "if (outputEl) {{\n",
       "    x.observe(outputEl, {childList: true});\n",
       "}}\n",
       "\n",
       "                        })                };                });            </script>        </div>"
      ]
     },
     "metadata": {},
     "output_type": "display_data"
    }
   ],
   "source": [
    "import plotly.express as px\n",
    "\n",
    "fig = px.box(ratings_mean_count, y=ratings_mean_count.rating_counts,title = \"Box plot of number of restaurant reviews\")\n",
    "fig.show()"
   ]
  },
  {
   "cell_type": "code",
   "execution_count": 198,
   "id": "66af3ee8",
   "metadata": {},
   "outputs": [
    {
     "data": {
      "text/plain": [
       "Text(0.5, 1.0, 'The histogram for average ratings')"
      ]
     },
     "execution_count": 198,
     "metadata": {},
     "output_type": "execute_result"
    },
    {
     "data": {
      "image/png": "[encoded data removed]",
      "text/plain": [
       "<Figure size 1440x1080 with 1 Axes>"
      ]
     },
     "metadata": {
      "needs_background": "light"
     },
     "output_type": "display_data"
    }
   ],
   "source": [
    "plt.figure(figsize=(20,15))\n",
    "plt.rcParams['patch.force_edgecolor'] = True\n",
    "ratings_mean_count['rating'].hist(bins=50)\n",
    "plt.title(\"The histogram for average ratings\")"
   ]
  },
  {
   "cell_type": "markdown",
   "id": "210c595f",
   "metadata": {},
   "source": [
    "# PREPROCCESING DATA"
   ]
  },
  {
   "cell_type": "code",
   "execution_count": 199,
   "id": "5c09d560",
   "metadata": {},
   "outputs": [],
   "source": [
    "#delete Nan values\n",
    "reviews_df = reviews_df.dropna()\n",
    "\n",
    "#find mean rating for each restaurant\n",
    "ratings_dict = reviews_df.groupby('restaurant')['rating'].mean().round(2).to_dict()\n",
    "reviews_df['mean_rating'] = reviews_df['restaurant'].map(ratings_dict)"
   ]
  },
  {
   "cell_type": "code",
   "execution_count": 200,
   "id": "d312d4f8",
   "metadata": {},
   "outputs": [
    {
     "data": {
      "text/html": [
       "<div>\n",
       "<style scoped>\n",
       "    .dataframe tbody tr th:only-of-type {\n",
       "        vertical-align: middle;\n",
       "    }\n",
       "\n",
       "    .dataframe tbody tr th {\n",
       "        vertical-align: top;\n",
       "    }\n",
       "\n",
       "    .dataframe thead th {\n",
       "        text-align: right;\n",
       "    }\n",
       "</style>\n",
       "<table border=\"1\" class=\"dataframe\">\n",
       "  <thead>\n",
       "    <tr style=\"text-align: right;\">\n",
       "      <th></th>\n",
       "      <th>restaurant</th>\n",
       "      <th>adress</th>\n",
       "      <th>name</th>\n",
       "      <th>date</th>\n",
       "      <th>review</th>\n",
       "      <th>rating</th>\n",
       "      <th>mean_rating</th>\n",
       "    </tr>\n",
       "  </thead>\n",
       "  <tbody>\n",
       "    <tr>\n",
       "      <th>0</th>\n",
       "      <td>all Seasons</td>\n",
       "      <td>Большая Морская ул., 34, Санкт-Петербург, Росс...</td>\n",
       "      <td>Дмитрий Контраст</td>\n",
       "      <td>7 месяцев назад</td>\n",
       "      <td>Первый раз в данном ресторане, сюда нас пригла...</td>\n",
       "      <td>5</td>\n",
       "      <td>4.67</td>\n",
       "    </tr>\n",
       "    <tr>\n",
       "      <th>1</th>\n",
       "      <td>all Seasons</td>\n",
       "      <td>Большая Морская ул., 34, Санкт-Петербург, Росс...</td>\n",
       "      <td>полина никулина</td>\n",
       "      <td>7 месяцев назад</td>\n",
       "      <td>Итак, в ресторане взяли «Зимний сет». Шеф и по...</td>\n",
       "      <td>3</td>\n",
       "      <td>4.67</td>\n",
       "    </tr>\n",
       "    <tr>\n",
       "      <th>2</th>\n",
       "      <td>all Seasons</td>\n",
       "      <td>Большая Морская ул., 34, Санкт-Петербург, Росс...</td>\n",
       "      <td>Maria ignatenko</td>\n",
       "      <td>11 месяцев назад</td>\n",
       "      <td>Очень атмосферное заведение. Шикарная подача б...</td>\n",
       "      <td>5</td>\n",
       "      <td>4.67</td>\n",
       "    </tr>\n",
       "    <tr>\n",
       "      <th>3</th>\n",
       "      <td>all Seasons</td>\n",
       "      <td>Большая Морская ул., 34, Санкт-Петербург, Росс...</td>\n",
       "      <td>Ekaterina Bagdasarova</td>\n",
       "      <td>год назад</td>\n",
       "      <td>Ваууууу. Других слов нет!\\nРекомендую!\\nНеверо...</td>\n",
       "      <td>5</td>\n",
       "      <td>4.67</td>\n",
       "    </tr>\n",
       "    <tr>\n",
       "      <th>4</th>\n",
       "      <td>all Seasons</td>\n",
       "      <td>Большая Морская ул., 34, Санкт-Петербург, Росс...</td>\n",
       "      <td>Роман Левин</td>\n",
       "      <td>год назад</td>\n",
       "      <td>Были в этом ресторане уже дважды, планируем ещ...</td>\n",
       "      <td>5</td>\n",
       "      <td>4.67</td>\n",
       "    </tr>\n",
       "  </tbody>\n",
       "</table>\n",
       "</div>"
      ],
      "text/plain": [
       "    restaurant                                             adress  \\\n",
       "0  all Seasons  Большая Морская ул., 34, Санкт-Петербург, Росс...   \n",
       "1  all Seasons  Большая Морская ул., 34, Санкт-Петербург, Росс...   \n",
       "2  all Seasons  Большая Морская ул., 34, Санкт-Петербург, Росс...   \n",
       "3  all Seasons  Большая Морская ул., 34, Санкт-Петербург, Росс...   \n",
       "4  all Seasons  Большая Морская ул., 34, Санкт-Петербург, Росс...   \n",
       "\n",
       "                    name              date  \\\n",
       "0       Дмитрий Контраст   7 месяцев назад   \n",
       "1        полина никулина   7 месяцев назад   \n",
       "2        Maria ignatenko  11 месяцев назад   \n",
       "3  Ekaterina Bagdasarova         год назад   \n",
       "4            Роман Левин         год назад   \n",
       "\n",
       "                                              review  rating  mean_rating  \n",
       "0  Первый раз в данном ресторане, сюда нас пригла...       5         4.67  \n",
       "1  Итак, в ресторане взяли «Зимний сет». Шеф и по...       3         4.67  \n",
       "2  Очень атмосферное заведение. Шикарная подача б...       5         4.67  \n",
       "3  Ваууууу. Других слов нет!\\nРекомендую!\\nНеверо...       5         4.67  \n",
       "4  Были в этом ресторане уже дважды, планируем ещ...       5         4.67  "
      ]
     },
     "execution_count": 200,
     "metadata": {},
     "output_type": "execute_result"
    }
   ],
   "source": [
    "reviews_df.head()"
   ]
  },
  {
   "cell_type": "code",
   "execution_count": 201,
   "id": "d9b372ba",
   "metadata": {},
   "outputs": [],
   "source": [
    "#find stop words\n",
    "stop = []\n",
    "for word in stopwords.words('russian'):\n",
    "    s = [char for char in word if char not in string.punctuation]\n",
    "    stop.append(''.join(s))\n",
    "    \n",
    "for word in stopwords.words('english'):\n",
    "    s = [char for char in word if char not in string.punctuation]\n",
    "    stop.append(''.join(s))"
   ]
  },
  {
   "cell_type": "code",
   "execution_count": 202,
   "id": "2341384b",
   "metadata": {},
   "outputs": [],
   "source": [
    "def text_process(mess):\n",
    "    \"\"\"\n",
    "    Takes in a string of text, then performs the following:\n",
    "    1. Lower Casing\n",
    "    2. Remove all punctuation\n",
    "    3. Remove all \\n substrings\n",
    "    4. Remove all URLs\n",
    "    2. Remove all stopwords\n",
    "    3. Returns a list of the cleaned text\n",
    "    \"\"\"\n",
    "    # Lower Casing\n",
    "    mess = mess.lower()\n",
    "    \n",
    "    # Check characters to see if they are in punctuation\n",
    "    nopunc = [char for char in mess if char not in string.punctuation or char in '«»']\n",
    "    \n",
    "    # Join the characters again to form the string.\n",
    "    nopunc = ''.join(nopunc)\n",
    "    \n",
    "    ## Removal of \\n\n",
    "    n_pattern = re.compile(r'\\n')\n",
    "    nopunc = n_pattern.sub(r' ', nopunc)\n",
    "    \n",
    "    ## Removal of URLS\n",
    "    url_pattern = re.compile(r'https?://\\S+|www\\.\\S+')\n",
    "    nopunc = url_pattern.sub(r'', nopunc)\n",
    "    \n",
    "    # Now just remove any stopwords\n",
    "    return \" \".join([word for word in nopunc.split() if word not in stop])\n",
    "\n",
    "#delete text before translating\n",
    "def delete_original_text(mess):\n",
    "    sub1 = \"переведено google\"\n",
    "    sub2 = \"оригинал\"\n",
    "    \n",
    "    if sub1 in mess and sub2 not in mess:  \n",
    "        return mess.split(\"переведено google\")[1]\n",
    "    elif sub1 in mess and sub2 in mess:        \n",
    "        # getting index of substrings\n",
    "        idx1 = mess.index(sub1)\n",
    "        idx2 = mess.index(sub2)\n",
    "        res = mess[idx1 + len(sub1) + 1: idx2]\n",
    "        # length of substring 1 is added to\n",
    "        # get string from next character\n",
    "        return res\n",
    "    else:\n",
    "        return mess"
   ]
  },
  {
   "cell_type": "code",
   "execution_count": 203,
   "id": "eac168cf",
   "metadata": {},
   "outputs": [],
   "source": [
    "#apply text_process and delete_original_text functions to review colummn in reviews_df\n",
    "reviews_df['review'] = reviews_df['review'].apply(text_process)\n",
    "reviews_df['review'] = reviews_df['review'].apply(delete_original_text)"
   ]
  },
  {
   "cell_type": "code",
   "execution_count": 204,
   "id": "256687a3",
   "metadata": {},
   "outputs": [
    {
     "data": {
      "text/html": [
       "<div>\n",
       "<style scoped>\n",
       "    .dataframe tbody tr th:only-of-type {\n",
       "        vertical-align: middle;\n",
       "    }\n",
       "\n",
       "    .dataframe tbody tr th {\n",
       "        vertical-align: top;\n",
       "    }\n",
       "\n",
       "    .dataframe thead th {\n",
       "        text-align: right;\n",
       "    }\n",
       "</style>\n",
       "<table border=\"1\" class=\"dataframe\">\n",
       "  <thead>\n",
       "    <tr style=\"text-align: right;\">\n",
       "      <th></th>\n",
       "      <th>restaurant</th>\n",
       "      <th>adress</th>\n",
       "      <th>name</th>\n",
       "      <th>date</th>\n",
       "      <th>review</th>\n",
       "      <th>rating</th>\n",
       "      <th>mean_rating</th>\n",
       "    </tr>\n",
       "  </thead>\n",
       "  <tbody>\n",
       "    <tr>\n",
       "      <th>0</th>\n",
       "      <td>all Seasons</td>\n",
       "      <td>Большая Морская ул., 34, Санкт-Петербург, Росс...</td>\n",
       "      <td>Дмитрий Контраст</td>\n",
       "      <td>7 месяцев назад</td>\n",
       "      <td>первый данном ресторане сюда пригласил олег га...</td>\n",
       "      <td>5</td>\n",
       "      <td>4.67</td>\n",
       "    </tr>\n",
       "    <tr>\n",
       "      <th>1</th>\n",
       "      <td>all Seasons</td>\n",
       "      <td>Большая Морская ул., 34, Санкт-Петербург, Росс...</td>\n",
       "      <td>полина никулина</td>\n",
       "      <td>7 месяцев назад</td>\n",
       "      <td>итак ресторане взяли «зимний сет» шеф повара м...</td>\n",
       "      <td>3</td>\n",
       "      <td>4.67</td>\n",
       "    </tr>\n",
       "    <tr>\n",
       "      <th>2</th>\n",
       "      <td>all Seasons</td>\n",
       "      <td>Большая Морская ул., 34, Санкт-Петербург, Росс...</td>\n",
       "      <td>Maria ignatenko</td>\n",
       "      <td>11 месяцев назад</td>\n",
       "      <td>очень атмосферное заведение шикарная подача бл...</td>\n",
       "      <td>5</td>\n",
       "      <td>4.67</td>\n",
       "    </tr>\n",
       "    <tr>\n",
       "      <th>3</th>\n",
       "      <td>all Seasons</td>\n",
       "      <td>Большая Морская ул., 34, Санкт-Петербург, Росс...</td>\n",
       "      <td>Ekaterina Bagdasarova</td>\n",
       "      <td>год назад</td>\n",
       "      <td>ваууууу других слов рекомендую невероятная авт...</td>\n",
       "      <td>5</td>\n",
       "      <td>4.67</td>\n",
       "    </tr>\n",
       "    <tr>\n",
       "      <th>4</th>\n",
       "      <td>all Seasons</td>\n",
       "      <td>Большая Морская ул., 34, Санкт-Петербург, Росс...</td>\n",
       "      <td>Роман Левин</td>\n",
       "      <td>год назад</td>\n",
       "      <td>ресторане дважды планируем ещё отличная кухня ...</td>\n",
       "      <td>5</td>\n",
       "      <td>4.67</td>\n",
       "    </tr>\n",
       "    <tr>\n",
       "      <th>...</th>\n",
       "      <td>...</td>\n",
       "      <td>...</td>\n",
       "      <td>...</td>\n",
       "      <td>...</td>\n",
       "      <td>...</td>\n",
       "      <td>...</td>\n",
       "      <td>...</td>\n",
       "    </tr>\n",
       "    <tr>\n",
       "      <th>75194</th>\n",
       "      <td>Ять</td>\n",
       "      <td>наб. реки Мойки, 16, Санкт-Петербург, Россия, ...</td>\n",
       "      <td>PEDRO MARTINEZ</td>\n",
       "      <td>3 года назад</td>\n",
       "      <td>хорошая еда</td>\n",
       "      <td>4</td>\n",
       "      <td>4.46</td>\n",
       "    </tr>\n",
       "    <tr>\n",
       "      <th>75195</th>\n",
       "      <td>Ять</td>\n",
       "      <td>наб. реки Мойки, 16, Санкт-Петербург, Россия, ...</td>\n",
       "      <td>Rachel Bailes</td>\n",
       "      <td>5 лет назад</td>\n",
       "      <td>попробуйте борщ</td>\n",
       "      <td>5</td>\n",
       "      <td>4.46</td>\n",
       "    </tr>\n",
       "    <tr>\n",
       "      <th>75196</th>\n",
       "      <td>Ять</td>\n",
       "      <td>наб. реки Мойки, 16, Санкт-Петербург, Россия, ...</td>\n",
       "      <td>Berendina Van Straalen</td>\n",
       "      <td>4 года назад</td>\n",
       "      <td>прекрасная игра</td>\n",
       "      <td>4</td>\n",
       "      <td>4.46</td>\n",
       "    </tr>\n",
       "    <tr>\n",
       "      <th>75197</th>\n",
       "      <td>Ять</td>\n",
       "      <td>наб. реки Мойки, 16, Санкт-Петербург, Россия, ...</td>\n",
       "      <td>Алла Шер</td>\n",
       "      <td>год назад</td>\n",
       "      <td>атмосферное</td>\n",
       "      <td>5</td>\n",
       "      <td>4.46</td>\n",
       "    </tr>\n",
       "    <tr>\n",
       "      <th>75198</th>\n",
       "      <td>Ять</td>\n",
       "      <td>наб. реки Мойки, 16, Санкт-Петербург, Россия, ...</td>\n",
       "      <td>Igor Zacharewicz</td>\n",
       "      <td>3 года назад</td>\n",
       "      <td>deliciosou</td>\n",
       "      <td>5</td>\n",
       "      <td>4.46</td>\n",
       "    </tr>\n",
       "  </tbody>\n",
       "</table>\n",
       "<p>56292 rows × 7 columns</p>\n",
       "</div>"
      ],
      "text/plain": [
       "        restaurant                                             adress  \\\n",
       "0      all Seasons  Большая Морская ул., 34, Санкт-Петербург, Росс...   \n",
       "1      all Seasons  Большая Морская ул., 34, Санкт-Петербург, Росс...   \n",
       "2      all Seasons  Большая Морская ул., 34, Санкт-Петербург, Росс...   \n",
       "3      all Seasons  Большая Морская ул., 34, Санкт-Петербург, Росс...   \n",
       "4      all Seasons  Большая Морская ул., 34, Санкт-Петербург, Росс...   \n",
       "...            ...                                                ...   \n",
       "75194          Ять  наб. реки Мойки, 16, Санкт-Петербург, Россия, ...   \n",
       "75195          Ять  наб. реки Мойки, 16, Санкт-Петербург, Россия, ...   \n",
       "75196          Ять  наб. реки Мойки, 16, Санкт-Петербург, Россия, ...   \n",
       "75197          Ять  наб. реки Мойки, 16, Санкт-Петербург, Россия, ...   \n",
       "75198          Ять  наб. реки Мойки, 16, Санкт-Петербург, Россия, ...   \n",
       "\n",
       "                         name              date  \\\n",
       "0            Дмитрий Контраст   7 месяцев назад   \n",
       "1             полина никулина   7 месяцев назад   \n",
       "2             Maria ignatenko  11 месяцев назад   \n",
       "3       Ekaterina Bagdasarova         год назад   \n",
       "4                 Роман Левин         год назад   \n",
       "...                       ...               ...   \n",
       "75194          PEDRO MARTINEZ      3 года назад   \n",
       "75195           Rachel Bailes       5 лет назад   \n",
       "75196  Berendina Van Straalen      4 года назад   \n",
       "75197                Алла Шер         год назад   \n",
       "75198        Igor Zacharewicz      3 года назад   \n",
       "\n",
       "                                                  review  rating  mean_rating  \n",
       "0      первый данном ресторане сюда пригласил олег га...       5         4.67  \n",
       "1      итак ресторане взяли «зимний сет» шеф повара м...       3         4.67  \n",
       "2      очень атмосферное заведение шикарная подача бл...       5         4.67  \n",
       "3      ваууууу других слов рекомендую невероятная авт...       5         4.67  \n",
       "4      ресторане дважды планируем ещё отличная кухня ...       5         4.67  \n",
       "...                                                  ...     ...          ...  \n",
       "75194                                       хорошая еда        4         4.46  \n",
       "75195                                   попробуйте борщ        5         4.46  \n",
       "75196                                   прекрасная игра        4         4.46  \n",
       "75197                                       атмосферное        5         4.46  \n",
       "75198                                         deliciosou       5         4.46  \n",
       "\n",
       "[56292 rows x 7 columns]"
      ]
     },
     "execution_count": 204,
     "metadata": {},
     "output_type": "execute_result"
    }
   ],
   "source": [
    "reviews_df"
   ]
  },
  {
   "cell_type": "code",
   "execution_count": 206,
   "id": "0711fae4",
   "metadata": {},
   "outputs": [
    {
     "name": "stdout",
     "output_type": "stream",
     "text": [
      "Number of user: 43352\n",
      "Number of restaurants: 116\n",
      "Number of review: 56292\n"
     ]
    }
   ],
   "source": [
    "print('Number of user:', len(reviews_df.name.unique()))\n",
    "print('Number of restaurants:', len(reviews_df.restaurant.unique()))\n",
    "print('Number of review:', len(reviews_df))"
   ]
  },
  {
   "cell_type": "markdown",
   "id": "697c766e",
   "metadata": {},
   "source": [
    "# LATENT FACTOR COLLABORATIVE FILTERING"
   ]
  },
  {
   "cell_type": "markdown",
   "id": "d0eb5b9b",
   "metadata": {},
   "source": [
    "## Data preparing "
   ]
  },
  {
   "cell_type": "code",
   "execution_count": 86,
   "id": "98d6b755",
   "metadata": {},
   "outputs": [],
   "source": [
    "#create user matrix\n",
    "users_df = reviews_df[['name','review']]\n",
    "#create restaurant matrix\n",
    "restaurants_df = reviews_df[['restaurant', 'review']]\n",
    "\n",
    "#join all reviews into one string for each users in user matrix\n",
    "users_df = users_df.groupby('name').agg({'review': ' '.join})\n",
    "#join all reviews into one string for each restaurant in restaurant matrix\n",
    "restaurants_df = restaurants_df.groupby('restaurant').agg({'review': ' '.join})"
   ]
  },
  {
   "cell_type": "code",
   "execution_count": 87,
   "id": "24073cba",
   "metadata": {},
   "outputs": [
    {
     "data": {
      "text/html": [
       "<div>\n",
       "<style scoped>\n",
       "    .dataframe tbody tr th:only-of-type {\n",
       "        vertical-align: middle;\n",
       "    }\n",
       "\n",
       "    .dataframe tbody tr th {\n",
       "        vertical-align: top;\n",
       "    }\n",
       "\n",
       "    .dataframe thead th {\n",
       "        text-align: right;\n",
       "    }\n",
       "</style>\n",
       "<table border=\"1\" class=\"dataframe\">\n",
       "  <thead>\n",
       "    <tr style=\"text-align: right;\">\n",
       "      <th></th>\n",
       "      <th>review</th>\n",
       "    </tr>\n",
       "    <tr>\n",
       "      <th>name</th>\n",
       "      <th></th>\n",
       "    </tr>\n",
       "  </thead>\n",
       "  <tbody>\n",
       "    <tr>\n",
       "      <th># Jungman</th>\n",
       "      <td>приятное место цены выше среднего</td>\n",
       "    </tr>\n",
       "    <tr>\n",
       "      <th># ТворюВолшебство</th>\n",
       "      <td>уютно атмосферно вежливые официанты ❤</td>\n",
       "    </tr>\n",
       "    <tr>\n",
       "      <th>### Yu li Ya ###</th>\n",
       "      <td>еда вкусная обслуживание хорошее душно</td>\n",
       "    </tr>\n",
       "    <tr>\n",
       "      <th>#RF_ ArtPhoto</th>\n",
       "      <td>высококлассный российский ресторан еда абсолют...</td>\n",
       "    </tr>\n",
       "    <tr>\n",
       "      <th>#brapmaster martin rotaryworkshop</th>\n",
       "      <td>место класс музяка советую</td>\n",
       "    </tr>\n",
       "    <tr>\n",
       "      <th>...</th>\n",
       "      <td>...</td>\n",
       "    </tr>\n",
       "    <tr>\n",
       "      <th>현림재</th>\n",
       "      <td>лучшая атмосфера дружелюбие персонала вкус хор...</td>\n",
       "    </tr>\n",
       "    <tr>\n",
       "      <th>현태훈</th>\n",
       "      <td>первый вкус свежего свежего типа очень</td>\n",
       "    </tr>\n",
       "    <tr>\n",
       "      <th>홍성식</th>\n",
       "      <td>атмосфера вкус еды хорошие доступность цена еды</td>\n",
       "    </tr>\n",
       "    <tr>\n",
       "      <th>홍성호</th>\n",
       "      <td>шашлик хорош блин борщ годятся цена немного за...</td>\n",
       "    </tr>\n",
       "    <tr>\n",
       "      <th>황해진</th>\n",
       "      <td>имел креветки стейк свежие вкусные винная кар...</td>\n",
       "    </tr>\n",
       "  </tbody>\n",
       "</table>\n",
       "<p>43353 rows × 1 columns</p>\n",
       "</div>"
      ],
      "text/plain": [
       "                                                                              review\n",
       "name                                                                                \n",
       "# Jungman                                          приятное место цены выше среднего\n",
       "# ТворюВолшебство                              уютно атмосферно вежливые официанты ❤\n",
       "### Yu li Ya ###                              еда вкусная обслуживание хорошее душно\n",
       "#RF_ ArtPhoto                      высококлассный российский ресторан еда абсолют...\n",
       "#brapmaster martin rotaryworkshop                         место класс музяка советую\n",
       "...                                                                              ...\n",
       "현림재                                лучшая атмосфера дружелюбие персонала вкус хор...\n",
       "현태훈                                          первый вкус свежего свежего типа очень \n",
       "홍성식                                 атмосфера вкус еды хорошие доступность цена еды \n",
       "홍성호                                шашлик хорош блин борщ годятся цена немного за...\n",
       "황해진                                 имел креветки стейк свежие вкусные винная кар...\n",
       "\n",
       "[43353 rows x 1 columns]"
      ]
     },
     "execution_count": 87,
     "metadata": {},
     "output_type": "execute_result"
    }
   ],
   "source": [
    "users_df"
   ]
  },
  {
   "cell_type": "code",
   "execution_count": 88,
   "id": "ad4effed",
   "metadata": {},
   "outputs": [
    {
     "data": {
      "text/html": [
       "<div>\n",
       "<style scoped>\n",
       "    .dataframe tbody tr th:only-of-type {\n",
       "        vertical-align: middle;\n",
       "    }\n",
       "\n",
       "    .dataframe tbody tr th {\n",
       "        vertical-align: top;\n",
       "    }\n",
       "\n",
       "    .dataframe thead th {\n",
       "        text-align: right;\n",
       "    }\n",
       "</style>\n",
       "<table border=\"1\" class=\"dataframe\">\n",
       "  <thead>\n",
       "    <tr style=\"text-align: right;\">\n",
       "      <th></th>\n",
       "      <th>review</th>\n",
       "    </tr>\n",
       "    <tr>\n",
       "      <th>restaurant</th>\n",
       "      <th></th>\n",
       "    </tr>\n",
       "  </thead>\n",
       "  <tbody>\n",
       "    <tr>\n",
       "      <th>Amo Cucinare</th>\n",
       "      <td>моему большому сожалению отзыв самый приятный ...</td>\n",
       "    </tr>\n",
       "    <tr>\n",
       "      <th>Barashki</th>\n",
       "      <td>отличное расположение повезёт забронировать ст...</td>\n",
       "    </tr>\n",
       "    <tr>\n",
       "      <th>Birch</th>\n",
       "      <td>друзья это великолепно интерьер персонал атмос...</td>\n",
       "    </tr>\n",
       "    <tr>\n",
       "      <th>Brisket Eat&amp;Fun</th>\n",
       "      <td>отличное место жаль небольшое рассчитано небол...</td>\n",
       "    </tr>\n",
       "    <tr>\n",
       "      <th>Casa Del Мясо</th>\n",
       "      <td>отлично приятно аутентично сводчатый потолок к...</td>\n",
       "    </tr>\n",
       "    <tr>\n",
       "      <th>...</th>\n",
       "      <td>...</td>\n",
       "    </tr>\n",
       "    <tr>\n",
       "      <th>Щелкунчик</th>\n",
       "      <td>такс это столовая сразу скажу нужны тибон стей...</td>\n",
       "    </tr>\n",
       "    <tr>\n",
       "      <th>ЭТНОС</th>\n",
       "      <td>решили сводить родственников хорошее грузинско...</td>\n",
       "    </tr>\n",
       "    <tr>\n",
       "      <th>Эривань</th>\n",
       "      <td>замечательное место центре города прекрасным в...</td>\n",
       "    </tr>\n",
       "    <tr>\n",
       "      <th>Юми</th>\n",
       "      <td>готовят вкусно очень быстро подают заказ персо...</td>\n",
       "    </tr>\n",
       "    <tr>\n",
       "      <th>Ять</th>\n",
       "      <td>отличное нашим меркам шикарное заведение очень...</td>\n",
       "    </tr>\n",
       "  </tbody>\n",
       "</table>\n",
       "<p>116 rows × 1 columns</p>\n",
       "</div>"
      ],
      "text/plain": [
       "                                                            review\n",
       "restaurant                                                        \n",
       "Amo Cucinare     моему большому сожалению отзыв самый приятный ...\n",
       "Barashki         отличное расположение повезёт забронировать ст...\n",
       "Birch            друзья это великолепно интерьер персонал атмос...\n",
       "Brisket Eat&Fun  отличное место жаль небольшое рассчитано небол...\n",
       "Casa Del Мясо    отлично приятно аутентично сводчатый потолок к...\n",
       "...                                                            ...\n",
       "Щелкунчик        такс это столовая сразу скажу нужны тибон стей...\n",
       "ЭТНОС            решили сводить родственников хорошее грузинско...\n",
       "Эривань          замечательное место центре города прекрасным в...\n",
       "Юми              готовят вкусно очень быстро подают заказ персо...\n",
       "Ять              отличное нашим меркам шикарное заведение очень...\n",
       "\n",
       "[116 rows x 1 columns]"
      ]
     },
     "execution_count": 88,
     "metadata": {},
     "output_type": "execute_result"
    }
   ],
   "source": [
    "restaurants_df"
   ]
  },
  {
   "cell_type": "code",
   "execution_count": 89,
   "id": "3d481d64",
   "metadata": {},
   "outputs": [],
   "source": [
    "#userid vectorizer\n",
    "users_vectorizer = TfidfVectorizer(tokenizer = WordPunctTokenizer().tokenize, max_features=5000)\n",
    "users_vectors = users_vectorizer.fit_transform(users_df['review'])\n",
    "#Business id vectorizer\n",
    "restaurants_vectorizer = TfidfVectorizer(tokenizer = WordPunctTokenizer().tokenize, max_features=5000)\n",
    "restaurants_vectors = restaurants_vectorizer.fit_transform(restaurants_df['review'])"
   ]
  },
  {
   "cell_type": "code",
   "execution_count": 90,
   "id": "a239dcb8",
   "metadata": {},
   "outputs": [],
   "source": [
    "user_rating_matrix = pd.pivot_table(reviews_df, values='rating', index=['name'], columns=['restaurant'])"
   ]
  },
  {
   "cell_type": "code",
   "execution_count": 91,
   "id": "3d86d56e",
   "metadata": {},
   "outputs": [
    {
     "data": {
      "text/html": [
       "<div>\n",
       "<style scoped>\n",
       "    .dataframe tbody tr th:only-of-type {\n",
       "        vertical-align: middle;\n",
       "    }\n",
       "\n",
       "    .dataframe tbody tr th {\n",
       "        vertical-align: top;\n",
       "    }\n",
       "\n",
       "    .dataframe thead th {\n",
       "        text-align: right;\n",
       "    }\n",
       "</style>\n",
       "<table border=\"1\" class=\"dataframe\">\n",
       "  <thead>\n",
       "    <tr style=\"text-align: right;\">\n",
       "      <th>restaurant</th>\n",
       "      <th>Amo Cucinare</th>\n",
       "      <th>Barashki</th>\n",
       "      <th>Birch</th>\n",
       "      <th>Brisket Eat&amp;Fun</th>\n",
       "      <th>Casa Del Мясо</th>\n",
       "      <th>ChaCha</th>\n",
       "      <th>Del Mar</th>\n",
       "      <th>Duo</th>\n",
       "      <th>Duo Asia</th>\n",
       "      <th>EM</th>\n",
       "      <th>...</th>\n",
       "      <th>Фрегат Благодать</th>\n",
       "      <th>Хачапури и вино</th>\n",
       "      <th>Чуфальня</th>\n",
       "      <th>Шеф-Маруся и ко</th>\n",
       "      <th>Штакеншнейдер</th>\n",
       "      <th>Щелкунчик</th>\n",
       "      <th>ЭТНОС</th>\n",
       "      <th>Эривань</th>\n",
       "      <th>Юми</th>\n",
       "      <th>Ять</th>\n",
       "    </tr>\n",
       "    <tr>\n",
       "      <th>name</th>\n",
       "      <th></th>\n",
       "      <th></th>\n",
       "      <th></th>\n",
       "      <th></th>\n",
       "      <th></th>\n",
       "      <th></th>\n",
       "      <th></th>\n",
       "      <th></th>\n",
       "      <th></th>\n",
       "      <th></th>\n",
       "      <th></th>\n",
       "      <th></th>\n",
       "      <th></th>\n",
       "      <th></th>\n",
       "      <th></th>\n",
       "      <th></th>\n",
       "      <th></th>\n",
       "      <th></th>\n",
       "      <th></th>\n",
       "      <th></th>\n",
       "      <th></th>\n",
       "    </tr>\n",
       "  </thead>\n",
       "  <tbody>\n",
       "    <tr>\n",
       "      <th># Jungman</th>\n",
       "      <td>NaN</td>\n",
       "      <td>NaN</td>\n",
       "      <td>NaN</td>\n",
       "      <td>NaN</td>\n",
       "      <td>NaN</td>\n",
       "      <td>NaN</td>\n",
       "      <td>NaN</td>\n",
       "      <td>NaN</td>\n",
       "      <td>NaN</td>\n",
       "      <td>NaN</td>\n",
       "      <td>...</td>\n",
       "      <td>NaN</td>\n",
       "      <td>NaN</td>\n",
       "      <td>NaN</td>\n",
       "      <td>NaN</td>\n",
       "      <td>NaN</td>\n",
       "      <td>NaN</td>\n",
       "      <td>NaN</td>\n",
       "      <td>NaN</td>\n",
       "      <td>NaN</td>\n",
       "      <td>NaN</td>\n",
       "    </tr>\n",
       "    <tr>\n",
       "      <th># ТворюВолшебство</th>\n",
       "      <td>NaN</td>\n",
       "      <td>NaN</td>\n",
       "      <td>NaN</td>\n",
       "      <td>NaN</td>\n",
       "      <td>NaN</td>\n",
       "      <td>NaN</td>\n",
       "      <td>NaN</td>\n",
       "      <td>NaN</td>\n",
       "      <td>NaN</td>\n",
       "      <td>NaN</td>\n",
       "      <td>...</td>\n",
       "      <td>NaN</td>\n",
       "      <td>NaN</td>\n",
       "      <td>NaN</td>\n",
       "      <td>NaN</td>\n",
       "      <td>NaN</td>\n",
       "      <td>NaN</td>\n",
       "      <td>NaN</td>\n",
       "      <td>NaN</td>\n",
       "      <td>NaN</td>\n",
       "      <td>NaN</td>\n",
       "    </tr>\n",
       "    <tr>\n",
       "      <th>### Yu li Ya ###</th>\n",
       "      <td>4.0</td>\n",
       "      <td>NaN</td>\n",
       "      <td>NaN</td>\n",
       "      <td>NaN</td>\n",
       "      <td>NaN</td>\n",
       "      <td>NaN</td>\n",
       "      <td>NaN</td>\n",
       "      <td>NaN</td>\n",
       "      <td>NaN</td>\n",
       "      <td>NaN</td>\n",
       "      <td>...</td>\n",
       "      <td>NaN</td>\n",
       "      <td>NaN</td>\n",
       "      <td>NaN</td>\n",
       "      <td>NaN</td>\n",
       "      <td>NaN</td>\n",
       "      <td>NaN</td>\n",
       "      <td>NaN</td>\n",
       "      <td>NaN</td>\n",
       "      <td>NaN</td>\n",
       "      <td>NaN</td>\n",
       "    </tr>\n",
       "    <tr>\n",
       "      <th>#RF_ ArtPhoto</th>\n",
       "      <td>NaN</td>\n",
       "      <td>NaN</td>\n",
       "      <td>NaN</td>\n",
       "      <td>NaN</td>\n",
       "      <td>NaN</td>\n",
       "      <td>NaN</td>\n",
       "      <td>NaN</td>\n",
       "      <td>NaN</td>\n",
       "      <td>NaN</td>\n",
       "      <td>NaN</td>\n",
       "      <td>...</td>\n",
       "      <td>NaN</td>\n",
       "      <td>NaN</td>\n",
       "      <td>NaN</td>\n",
       "      <td>NaN</td>\n",
       "      <td>5.0</td>\n",
       "      <td>NaN</td>\n",
       "      <td>NaN</td>\n",
       "      <td>NaN</td>\n",
       "      <td>NaN</td>\n",
       "      <td>NaN</td>\n",
       "    </tr>\n",
       "    <tr>\n",
       "      <th>#brapmaster martin rotaryworkshop</th>\n",
       "      <td>NaN</td>\n",
       "      <td>NaN</td>\n",
       "      <td>NaN</td>\n",
       "      <td>NaN</td>\n",
       "      <td>NaN</td>\n",
       "      <td>NaN</td>\n",
       "      <td>NaN</td>\n",
       "      <td>NaN</td>\n",
       "      <td>NaN</td>\n",
       "      <td>NaN</td>\n",
       "      <td>...</td>\n",
       "      <td>NaN</td>\n",
       "      <td>NaN</td>\n",
       "      <td>NaN</td>\n",
       "      <td>NaN</td>\n",
       "      <td>NaN</td>\n",
       "      <td>NaN</td>\n",
       "      <td>NaN</td>\n",
       "      <td>NaN</td>\n",
       "      <td>NaN</td>\n",
       "      <td>NaN</td>\n",
       "    </tr>\n",
       "    <tr>\n",
       "      <th>...</th>\n",
       "      <td>...</td>\n",
       "      <td>...</td>\n",
       "      <td>...</td>\n",
       "      <td>...</td>\n",
       "      <td>...</td>\n",
       "      <td>...</td>\n",
       "      <td>...</td>\n",
       "      <td>...</td>\n",
       "      <td>...</td>\n",
       "      <td>...</td>\n",
       "      <td>...</td>\n",
       "      <td>...</td>\n",
       "      <td>...</td>\n",
       "      <td>...</td>\n",
       "      <td>...</td>\n",
       "      <td>...</td>\n",
       "      <td>...</td>\n",
       "      <td>...</td>\n",
       "      <td>...</td>\n",
       "      <td>...</td>\n",
       "      <td>...</td>\n",
       "    </tr>\n",
       "    <tr>\n",
       "      <th>현림재</th>\n",
       "      <td>NaN</td>\n",
       "      <td>NaN</td>\n",
       "      <td>NaN</td>\n",
       "      <td>NaN</td>\n",
       "      <td>NaN</td>\n",
       "      <td>NaN</td>\n",
       "      <td>NaN</td>\n",
       "      <td>NaN</td>\n",
       "      <td>NaN</td>\n",
       "      <td>NaN</td>\n",
       "      <td>...</td>\n",
       "      <td>NaN</td>\n",
       "      <td>NaN</td>\n",
       "      <td>NaN</td>\n",
       "      <td>NaN</td>\n",
       "      <td>NaN</td>\n",
       "      <td>NaN</td>\n",
       "      <td>NaN</td>\n",
       "      <td>NaN</td>\n",
       "      <td>NaN</td>\n",
       "      <td>NaN</td>\n",
       "    </tr>\n",
       "    <tr>\n",
       "      <th>현태훈</th>\n",
       "      <td>NaN</td>\n",
       "      <td>NaN</td>\n",
       "      <td>NaN</td>\n",
       "      <td>NaN</td>\n",
       "      <td>NaN</td>\n",
       "      <td>NaN</td>\n",
       "      <td>NaN</td>\n",
       "      <td>NaN</td>\n",
       "      <td>NaN</td>\n",
       "      <td>NaN</td>\n",
       "      <td>...</td>\n",
       "      <td>NaN</td>\n",
       "      <td>NaN</td>\n",
       "      <td>NaN</td>\n",
       "      <td>NaN</td>\n",
       "      <td>NaN</td>\n",
       "      <td>NaN</td>\n",
       "      <td>NaN</td>\n",
       "      <td>NaN</td>\n",
       "      <td>NaN</td>\n",
       "      <td>NaN</td>\n",
       "    </tr>\n",
       "    <tr>\n",
       "      <th>홍성식</th>\n",
       "      <td>NaN</td>\n",
       "      <td>NaN</td>\n",
       "      <td>NaN</td>\n",
       "      <td>NaN</td>\n",
       "      <td>NaN</td>\n",
       "      <td>NaN</td>\n",
       "      <td>NaN</td>\n",
       "      <td>NaN</td>\n",
       "      <td>NaN</td>\n",
       "      <td>NaN</td>\n",
       "      <td>...</td>\n",
       "      <td>NaN</td>\n",
       "      <td>NaN</td>\n",
       "      <td>NaN</td>\n",
       "      <td>NaN</td>\n",
       "      <td>NaN</td>\n",
       "      <td>NaN</td>\n",
       "      <td>NaN</td>\n",
       "      <td>NaN</td>\n",
       "      <td>NaN</td>\n",
       "      <td>NaN</td>\n",
       "    </tr>\n",
       "    <tr>\n",
       "      <th>홍성호</th>\n",
       "      <td>NaN</td>\n",
       "      <td>NaN</td>\n",
       "      <td>NaN</td>\n",
       "      <td>NaN</td>\n",
       "      <td>NaN</td>\n",
       "      <td>NaN</td>\n",
       "      <td>NaN</td>\n",
       "      <td>NaN</td>\n",
       "      <td>NaN</td>\n",
       "      <td>NaN</td>\n",
       "      <td>...</td>\n",
       "      <td>NaN</td>\n",
       "      <td>NaN</td>\n",
       "      <td>NaN</td>\n",
       "      <td>NaN</td>\n",
       "      <td>NaN</td>\n",
       "      <td>NaN</td>\n",
       "      <td>NaN</td>\n",
       "      <td>NaN</td>\n",
       "      <td>NaN</td>\n",
       "      <td>NaN</td>\n",
       "    </tr>\n",
       "    <tr>\n",
       "      <th>황해진</th>\n",
       "      <td>NaN</td>\n",
       "      <td>NaN</td>\n",
       "      <td>NaN</td>\n",
       "      <td>NaN</td>\n",
       "      <td>NaN</td>\n",
       "      <td>NaN</td>\n",
       "      <td>NaN</td>\n",
       "      <td>NaN</td>\n",
       "      <td>NaN</td>\n",
       "      <td>NaN</td>\n",
       "      <td>...</td>\n",
       "      <td>NaN</td>\n",
       "      <td>NaN</td>\n",
       "      <td>NaN</td>\n",
       "      <td>NaN</td>\n",
       "      <td>NaN</td>\n",
       "      <td>NaN</td>\n",
       "      <td>NaN</td>\n",
       "      <td>NaN</td>\n",
       "      <td>NaN</td>\n",
       "      <td>NaN</td>\n",
       "    </tr>\n",
       "  </tbody>\n",
       "</table>\n",
       "<p>43353 rows × 116 columns</p>\n",
       "</div>"
      ],
      "text/plain": [
       "restaurant                         Amo Cucinare  Barashki  Birch  \\\n",
       "name                                                               \n",
       "# Jungman                                   NaN       NaN    NaN   \n",
       "# ТворюВолшебство                           NaN       NaN    NaN   \n",
       "### Yu li Ya ###                            4.0       NaN    NaN   \n",
       "#RF_ ArtPhoto                               NaN       NaN    NaN   \n",
       "#brapmaster martin rotaryworkshop           NaN       NaN    NaN   \n",
       "...                                         ...       ...    ...   \n",
       "현림재                                         NaN       NaN    NaN   \n",
       "현태훈                                         NaN       NaN    NaN   \n",
       "홍성식                                         NaN       NaN    NaN   \n",
       "홍성호                                         NaN       NaN    NaN   \n",
       "황해진                                         NaN       NaN    NaN   \n",
       "\n",
       "restaurant                         Brisket Eat&Fun  Casa Del Мясо  ChaCha  \\\n",
       "name                                                                        \n",
       "# Jungman                                      NaN            NaN     NaN   \n",
       "# ТворюВолшебство                              NaN            NaN     NaN   \n",
       "### Yu li Ya ###                               NaN            NaN     NaN   \n",
       "#RF_ ArtPhoto                                  NaN            NaN     NaN   \n",
       "#brapmaster martin rotaryworkshop              NaN            NaN     NaN   \n",
       "...                                            ...            ...     ...   \n",
       "현림재                                            NaN            NaN     NaN   \n",
       "현태훈                                            NaN            NaN     NaN   \n",
       "홍성식                                            NaN            NaN     NaN   \n",
       "홍성호                                            NaN            NaN     NaN   \n",
       "황해진                                            NaN            NaN     NaN   \n",
       "\n",
       "restaurant                         Del Mar  Duo  Duo Asia  EM  ...  \\\n",
       "name                                                           ...   \n",
       "# Jungman                              NaN  NaN       NaN NaN  ...   \n",
       "# ТворюВолшебство                      NaN  NaN       NaN NaN  ...   \n",
       "### Yu li Ya ###                       NaN  NaN       NaN NaN  ...   \n",
       "#RF_ ArtPhoto                          NaN  NaN       NaN NaN  ...   \n",
       "#brapmaster martin rotaryworkshop      NaN  NaN       NaN NaN  ...   \n",
       "...                                    ...  ...       ...  ..  ...   \n",
       "현림재                                    NaN  NaN       NaN NaN  ...   \n",
       "현태훈                                    NaN  NaN       NaN NaN  ...   \n",
       "홍성식                                    NaN  NaN       NaN NaN  ...   \n",
       "홍성호                                    NaN  NaN       NaN NaN  ...   \n",
       "황해진                                    NaN  NaN       NaN NaN  ...   \n",
       "\n",
       "restaurant                         Фрегат Благодать  Хачапури и вино  \\\n",
       "name                                                                   \n",
       "# Jungman                                       NaN              NaN   \n",
       "# ТворюВолшебство                               NaN              NaN   \n",
       "### Yu li Ya ###                                NaN              NaN   \n",
       "#RF_ ArtPhoto                                   NaN              NaN   \n",
       "#brapmaster martin rotaryworkshop               NaN              NaN   \n",
       "...                                             ...              ...   \n",
       "현림재                                             NaN              NaN   \n",
       "현태훈                                             NaN              NaN   \n",
       "홍성식                                             NaN              NaN   \n",
       "홍성호                                             NaN              NaN   \n",
       "황해진                                             NaN              NaN   \n",
       "\n",
       "restaurant                         Чуфальня  Шеф-Маруся и ко  Штакеншнейдер  \\\n",
       "name                                                                          \n",
       "# Jungman                               NaN              NaN            NaN   \n",
       "# ТворюВолшебство                       NaN              NaN            NaN   \n",
       "### Yu li Ya ###                        NaN              NaN            NaN   \n",
       "#RF_ ArtPhoto                           NaN              NaN            5.0   \n",
       "#brapmaster martin rotaryworkshop       NaN              NaN            NaN   \n",
       "...                                     ...              ...            ...   \n",
       "현림재                                     NaN              NaN            NaN   \n",
       "현태훈                                     NaN              NaN            NaN   \n",
       "홍성식                                     NaN              NaN            NaN   \n",
       "홍성호                                     NaN              NaN            NaN   \n",
       "황해진                                     NaN              NaN            NaN   \n",
       "\n",
       "restaurant                         Щелкунчик  ЭТНОС  Эривань  Юми  Ять  \n",
       "name                                                                    \n",
       "# Jungman                                NaN    NaN      NaN  NaN  NaN  \n",
       "# ТворюВолшебство                        NaN    NaN      NaN  NaN  NaN  \n",
       "### Yu li Ya ###                         NaN    NaN      NaN  NaN  NaN  \n",
       "#RF_ ArtPhoto                            NaN    NaN      NaN  NaN  NaN  \n",
       "#brapmaster martin rotaryworkshop        NaN    NaN      NaN  NaN  NaN  \n",
       "...                                      ...    ...      ...  ...  ...  \n",
       "현림재                                      NaN    NaN      NaN  NaN  NaN  \n",
       "현태훈                                      NaN    NaN      NaN  NaN  NaN  \n",
       "홍성식                                      NaN    NaN      NaN  NaN  NaN  \n",
       "홍성호                                      NaN    NaN      NaN  NaN  NaN  \n",
       "황해진                                      NaN    NaN      NaN  NaN  NaN  \n",
       "\n",
       "[43353 rows x 116 columns]"
      ]
     },
     "execution_count": 91,
     "metadata": {},
     "output_type": "execute_result"
    }
   ],
   "source": [
    "user_rating_matrix"
   ]
  },
  {
   "cell_type": "code",
   "execution_count": 92,
   "id": "ecfd21bc",
   "metadata": {},
   "outputs": [],
   "source": [
    "P = pd.DataFrame(users_vectors.toarray(), index=users_df.index, columns=users_vectorizer.get_feature_names())\n",
    "Q = pd.DataFrame(restaurants_vectors.toarray(), index=restaurants_df.index, columns=restaurants_vectorizer.get_feature_names())"
   ]
  },
  {
   "cell_type": "markdown",
   "id": "739eeaab",
   "metadata": {},
   "source": [
    "## Matrix factorization"
   ]
  },
  {
   "cell_type": "code",
   "execution_count": 93,
   "id": "5be21f7e",
   "metadata": {},
   "outputs": [],
   "source": [
    "def matrix_factorization(R, P, Q, steps=25, gamma=0.001,lamda=0.02):\n",
    "    for step in range(steps):\n",
    "        for i in R.index:\n",
    "            for j in R.columns:\n",
    "                if R.loc[i,j]>0:\n",
    "                    eij=R.loc[i,j]-np.dot(P.loc[i],Q.loc[j])\n",
    "                    P.loc[i]=P.loc[i]+gamma*(eij*Q.loc[j]-lamda*P.loc[i])\n",
    "                    Q.loc[j]=Q.loc[j]+gamma*(eij*P.loc[i]-lamda*Q.loc[j])\n",
    "        e=0\n",
    "        for i in R.index:\n",
    "            for j in R.columns:\n",
    "                if R.loc[i,j]>0:\n",
    "                    e= e + pow(R.loc[i,j]-np.dot(P.loc[i],Q.loc[j]),2)+lamda*(pow(np.linalg.norm(P.loc[i]),2)+pow(np.linalg.norm(Q.loc[j]),2))\n",
    "        if e<0.001:\n",
    "            break\n",
    "        \n",
    "    return P,Q"
   ]
  },
  {
   "cell_type": "code",
   "execution_count": 94,
   "id": "e3969f6c",
   "metadata": {},
   "outputs": [],
   "source": [
    "P, Q = matrix_factorization(user_rating_matrix, P, Q, steps=25, gamma=0.001,lamda=0.02)"
   ]
  },
  {
   "cell_type": "code",
   "execution_count": 95,
   "id": "ad7fe251",
   "metadata": {},
   "outputs": [],
   "source": [
    "Q.to_csv('Q.csv')"
   ]
  },
  {
   "cell_type": "code",
   "execution_count": 96,
   "id": "49b3ddb9",
   "metadata": {},
   "outputs": [],
   "source": [
    "P.to_csv('P.csv')"
   ]
  },
  {
   "cell_type": "markdown",
   "id": "164a96b6",
   "metadata": {},
   "source": [
    "## Export model"
   ]
  },
  {
   "cell_type": "code",
   "execution_count": 72,
   "id": "aa23e607",
   "metadata": {},
   "outputs": [],
   "source": [
    "Q = pd.read_csv('./Q.csv')"
   ]
  },
  {
   "cell_type": "code",
   "execution_count": 73,
   "id": "9fbe7720",
   "metadata": {},
   "outputs": [],
   "source": [
    "P = pd.read_csv('./P.csv')"
   ]
  },
  {
   "cell_type": "code",
   "execution_count": 98,
   "id": "833c28b5",
   "metadata": {},
   "outputs": [],
   "source": [
    "# Store P, Q and vectorizer in pickle file\n",
    "output = open('recommendation_users_vectorizer.pkl', 'wb')\n",
    "pickle.dump(users_vectorizer,output)\n",
    "output.close()"
   ]
  },
  {
   "cell_type": "code",
   "execution_count": 99,
   "id": "bbab3ceb",
   "metadata": {},
   "outputs": [],
   "source": [
    "# Store P, Q and vectorizer in pickle file\n",
    "output = open('recommendation_reviews_df.pkl', 'wb')\n",
    "pickle.dump(reviews_df,output)\n",
    "output.close()"
   ]
  },
  {
   "cell_type": "code",
   "execution_count": 100,
   "id": "c2e04622",
   "metadata": {},
   "outputs": [],
   "source": [
    "# Store P, Q and vectorizer in pickle file\n",
    "output = open('recommendation_P.pkl', 'wb')\n",
    "pickle.dump(P,output)\n",
    "output.close()"
   ]
  },
  {
   "cell_type": "code",
   "execution_count": 101,
   "id": "0ee095e7",
   "metadata": {},
   "outputs": [],
   "source": [
    "# Store P, Q and vectorizer in pickle file\n",
    "output = open('recommendation_Q.pkl', 'wb')\n",
    "pickle.dump(Q,output)\n",
    "output.close()"
   ]
  },
  {
   "cell_type": "markdown",
   "id": "3e01d3e6",
   "metadata": {},
   "source": [
    "## Testing model"
   ]
  },
  {
   "cell_type": "code",
   "execution_count": 114,
   "id": "1aff5a3d",
   "metadata": {},
   "outputs": [],
   "source": [
    "def recommender_collaborative_filtering(response,Q):\n",
    "    test_df= pd.DataFrame([response], columns=['text'])\n",
    "    test_df['text'] = test_df['text'].apply(text_process)\n",
    "    test_vectors = users_vectorizer.transform(test_df['text'])\n",
    "    test_v_df = pd.DataFrame(test_vectors.toarray(), index=test_df.index, columns=users_vectorizer.get_feature_names())\n",
    "    predictItemRating=pd.DataFrame(np.dot(test_v_df.loc[0],Q.T),index=Q.index,columns=['Rating'])\n",
    "    topRecommendations=pd.DataFrame.sort_values(predictItemRating,['Rating'],ascending=[0])[:7]\n",
    "    \n",
    "    print('ПО ЗАПРОСУ \"%s\" РЕКОМЕНДОВАНЫ СЛЕДУЮЩИЕ РЕСТОРАНЫ: ' % response.upper())\n",
    "    \n",
    "    for i in topRecommendations.index:\n",
    "        print(reviews_df[reviews_df['restaurant']==i]['restaurant'].iloc[0])\n",
    "        print(\"Рейтинг\", reviews_df[reviews_df['restaurant']==i]['mean_rating'].iloc[0],\"из 5\")\n",
    "        print(reviews_df[reviews_df['restaurant']==i]['adress'].iloc[0])\n",
    "        print('')"
   ]
  },
  {
   "cell_type": "code",
   "execution_count": 115,
   "id": "45c07980",
   "metadata": {},
   "outputs": [
    {
     "name": "stdout",
     "output_type": "stream",
     "text": [
      "ПО ЗАПРОСУ \"РЕСТОРАН НА КРЫШЕ\" РЕКОМЕНДОВАНЫ СЛЕДУЮЩИЕ РЕСТОРАНЫ: \n",
      "Гастрономика\n",
      "Рейтинг 4.13 из 5\n",
      "ул. Марата, 5/21, Санкт-Петербург, Россия, 191025\n",
      "\n",
      "Sadko\n",
      "Рейтинг 4.39 из 5\n",
      "ул. Глинки, 2, Санкт-Петербург, Россия, 190068\n",
      "\n",
      "Вино и Вода\n",
      "Рейтинг 4.61 из 5\n",
      "ул. Чайковского, 17, Санкт-Петербург, Россия, 191187\n",
      "\n",
      "Ресторан Баку\n",
      "Рейтинг 4.29 из 5\n",
      "Садовая ул., 12, Санкт-Петербург, Россия, 191011\n",
      "\n",
      "Большая Кухня\n",
      "Рейтинг 4.31 из 5\n",
      "Лиговский пр., 30А, Санкт-Петербург, Россия, 191040\n",
      "\n",
      "Летучий Голландец\n",
      "Рейтинг 4.36 из 5\n",
      " Невский пр., 88, Санкт-Петербург, Россия, 191025\n",
      "\n",
      "Ресторан Ферма на финляндском (Доставка)\n",
      "Рейтинг 4.68 из 5\n",
      "Финляндский пр., 1, Санкт-Петербург, Россия, 194044\n",
      "\n"
     ]
    }
   ],
   "source": [
    "recommender_collaborative_filtering('ресторан на крыше',Q)"
   ]
  },
  {
   "cell_type": "code",
   "execution_count": 116,
   "id": "c92de4b2",
   "metadata": {},
   "outputs": [
    {
     "name": "stdout",
     "output_type": "stream",
     "text": [
      "ПО ЗАПРОСУ \"РЕСТОРАН ГРУЗИНСКОЙ КУХНИ\" РЕКОМЕНДОВАНЫ СЛЕДУЮЩИЕ РЕСТОРАНЫ: \n",
      "Сакартвело\n",
      "Рейтинг 4.7 из 5\n",
      "12-я лин. В.О., 13, Санкт-Петербург, Россия, 199178\n",
      "\n",
      "ChaCha\n",
      "Рейтинг 4.51 из 5\n",
      "наб. канала Грибоедова, 8/1, Санкт-Петербург, Россия, 191011\n",
      "\n",
      "Rustaveli\n",
      "Рейтинг 4.47 из 5\n",
      "наб. реки Мойки, 9, Санкт-Петербург, Россия, 191186\n",
      "\n",
      "Грузинское кафе Сулико грузинская кухня с доставкой\n",
      "Рейтинг 4.54 из 5\n",
      "ул. Восстания, 7, Санкт-Петербург, Россия, 191036\n",
      "\n",
      "Тбилисити\n",
      "Рейтинг 4.67 из 5\n",
      "Литейный пр., дом 10, Санкт-Петербург, Россия, 191028\n",
      "\n",
      "Тархун\n",
      "Рейтинг 4.47 из 5\n",
      "Караванная ул., 14, Санкт-Петербург, Россия, 191023\n",
      "\n",
      "Sadko\n",
      "Рейтинг 4.39 из 5\n",
      "ул. Глинки, 2, Санкт-Петербург, Россия, 190068\n",
      "\n"
     ]
    }
   ],
   "source": [
    "recommender_collaborative_filtering('ресторан грузинской кухни',Q)"
   ]
  },
  {
   "cell_type": "code",
   "execution_count": 118,
   "id": "86fc8cfa",
   "metadata": {},
   "outputs": [
    {
     "name": "stdout",
     "output_type": "stream",
     "text": [
      "ПО ЗАПРОСУ \"ВКУСНАЯ ПИЦЦА\" РЕКОМЕНДОВАНЫ СЛЕДУЮЩИЕ РЕСТОРАНЫ: \n",
      "Villaggio\n",
      "Рейтинг 4.26 из 5\n",
      "Тучков пер., 11/5, Санкт-Петербург, Россия, 199004\n",
      "\n",
      "Italy\n",
      "Рейтинг 4.43 из 5\n",
      "Большая Морская ул., 14, Санкт-Петербург, Россия, 190000\n",
      "\n",
      "Марчеллис\n",
      "Рейтинг 4.49 из 5\n",
      "Невский пр., 21, Санкт-Петербург, Россия, 191187\n",
      "\n",
      "Little Sicily\n",
      "Рейтинг 4.79 из 5\n",
      "ул. Марата, 13, Санкт-Петербург, Россия, 191025\n",
      "\n",
      "Jerome\n",
      "Рейтинг 4.48 из 5\n",
      "Большая Морская ул., 25, Санкт-Петербург, Россия, 190000\n",
      "\n",
      "Мама на даче\n",
      "Рейтинг 4.16 из 5\n",
      "Невский пр., 88, Санкт-Петербург, Россия, 191025\n",
      "\n",
      "Большая Кухня\n",
      "Рейтинг 4.31 из 5\n",
      "Лиговский пр., 30А, Санкт-Петербург, Россия, 191040\n",
      "\n"
     ]
    }
   ],
   "source": [
    "recommender_collaborative_filtering('вкусная пицца',Q)"
   ]
  },
  {
   "cell_type": "markdown",
   "id": "67be8632",
   "metadata": {},
   "source": [
    "# CONTENT BASE RECOMMENDER SYSTEM"
   ]
  },
  {
   "cell_type": "markdown",
   "id": "6f36d7c6",
   "metadata": {},
   "source": [
    "## Data preparing"
   ]
  },
  {
   "cell_type": "code",
   "execution_count": 129,
   "id": "bf7afcd8",
   "metadata": {},
   "outputs": [],
   "source": [
    "cb_restaurants_df = reviews_df[['restaurant', 'review']]\n",
    "#join all reviews of restaurant into one string\n",
    "cb_restaurants_df = cb_restaurants_df.groupby('restaurant',as_index=False).agg({'review': ' '.join})"
   ]
  },
  {
   "cell_type": "code",
   "execution_count": 130,
   "id": "05b44da5",
   "metadata": {},
   "outputs": [],
   "source": [
    "#create dictionary with restaurants mean rating \n",
    "mean_rating_dict = reviews_df.groupby('restaurant')['rating'].mean().round(2).to_dict()\n",
    "#create dictionary with restaurants address\n",
    "address_arr = np.array(reviews_df[['restaurant','adress']].drop_duplicates().reset_index(drop=True))\n",
    "address_dict={}\n",
    "for addr in address_arr:\n",
    "    address_dict[str(addr[0])] = addr[1]"
   ]
  },
  {
   "cell_type": "code",
   "execution_count": 131,
   "id": "4dd770a6",
   "metadata": {},
   "outputs": [],
   "source": [
    "cb_restaurants_df['mean_rating'] = cb_restaurants_df['restaurant'].map(mean_rating_dict)\n",
    "cb_restaurants_df['address']     = cb_restaurants_df['restaurant'].map(address_dict)"
   ]
  },
  {
   "cell_type": "code",
   "execution_count": 132,
   "id": "630e8267",
   "metadata": {},
   "outputs": [
    {
     "data": {
      "text/html": [
       "<div>\n",
       "<style scoped>\n",
       "    .dataframe tbody tr th:only-of-type {\n",
       "        vertical-align: middle;\n",
       "    }\n",
       "\n",
       "    .dataframe tbody tr th {\n",
       "        vertical-align: top;\n",
       "    }\n",
       "\n",
       "    .dataframe thead th {\n",
       "        text-align: right;\n",
       "    }\n",
       "</style>\n",
       "<table border=\"1\" class=\"dataframe\">\n",
       "  <thead>\n",
       "    <tr style=\"text-align: right;\">\n",
       "      <th></th>\n",
       "      <th>restaurant</th>\n",
       "      <th>review</th>\n",
       "      <th>mean_rating</th>\n",
       "      <th>address</th>\n",
       "    </tr>\n",
       "  </thead>\n",
       "  <tbody>\n",
       "    <tr>\n",
       "      <th>0</th>\n",
       "      <td>Amo Cucinare</td>\n",
       "      <td>моему большому сожалению отзыв самый приятный ...</td>\n",
       "      <td>4.44</td>\n",
       "      <td>Большая Конюшенная ул., 5, Санкт-Петербург, Ро...</td>\n",
       "    </tr>\n",
       "    <tr>\n",
       "      <th>1</th>\n",
       "      <td>Barashki</td>\n",
       "      <td>отличное расположение повезёт забронировать ст...</td>\n",
       "      <td>3.94</td>\n",
       "      <td>ул. Ефимова, 2, Санкт-Петербург, Россия, 190031</td>\n",
       "    </tr>\n",
       "    <tr>\n",
       "      <th>2</th>\n",
       "      <td>Birch</td>\n",
       "      <td>друзья это великолепно интерьер персонал атмос...</td>\n",
       "      <td>4.67</td>\n",
       "      <td>Кирочная ул., дом 3, Санкт-Петербург, Россия, ...</td>\n",
       "    </tr>\n",
       "    <tr>\n",
       "      <th>3</th>\n",
       "      <td>Brisket Eat&amp;Fun</td>\n",
       "      <td>отличное место жаль небольшое рассчитано небол...</td>\n",
       "      <td>4.64</td>\n",
       "      <td>Шведский пер., 2, Санкт-Петербург, Россия, 191186</td>\n",
       "    </tr>\n",
       "    <tr>\n",
       "      <th>4</th>\n",
       "      <td>Casa Del Мясо</td>\n",
       "      <td>отлично приятно аутентично сводчатый потолок к...</td>\n",
       "      <td>4.48</td>\n",
       "      <td>Биржевой пр-д, д.6, Санкт-Петербург, Россия, 1...</td>\n",
       "    </tr>\n",
       "  </tbody>\n",
       "</table>\n",
       "</div>"
      ],
      "text/plain": [
       "        restaurant                                             review  \\\n",
       "0     Amo Cucinare  моему большому сожалению отзыв самый приятный ...   \n",
       "1         Barashki  отличное расположение повезёт забронировать ст...   \n",
       "2            Birch  друзья это великолепно интерьер персонал атмос...   \n",
       "3  Brisket Eat&Fun  отличное место жаль небольшое рассчитано небол...   \n",
       "4    Casa Del Мясо  отлично приятно аутентично сводчатый потолок к...   \n",
       "\n",
       "   mean_rating                                            address  \n",
       "0         4.44  Большая Конюшенная ул., 5, Санкт-Петербург, Ро...  \n",
       "1         3.94    ул. Ефимова, 2, Санкт-Петербург, Россия, 190031  \n",
       "2         4.67  Кирочная ул., дом 3, Санкт-Петербург, Россия, ...  \n",
       "3         4.64  Шведский пер., 2, Санкт-Петербург, Россия, 191186  \n",
       "4         4.48  Биржевой пр-д, д.6, Санкт-Петербург, Россия, 1...  "
      ]
     },
     "execution_count": 132,
     "metadata": {},
     "output_type": "execute_result"
    }
   ],
   "source": [
    "cb_restaurants_df.head()"
   ]
  },
  {
   "cell_type": "code",
   "execution_count": 133,
   "id": "e67fc1cf",
   "metadata": {},
   "outputs": [],
   "source": [
    "#Changing data set index by restaurant name\n",
    "cb_restaurants_df.set_index('restaurant', inplace=True)"
   ]
  },
  {
   "cell_type": "markdown",
   "id": "45c3b8b7",
   "metadata": {},
   "source": [
    "##  Word Frequency Distribution"
   ]
  },
  {
   "cell_type": "code",
   "execution_count": 134,
   "id": "cabefb43",
   "metadata": {},
   "outputs": [
    {
     "data": {
      "image/png": "[encoded data removed]",
      "text/plain": [
       "<Figure size 1080x720 with 1 Axes>"
      ]
     },
     "metadata": {
      "needs_background": "light"
     },
     "output_type": "display_data"
    }
   ],
   "source": [
    "#Word Frequency Distribution\n",
    "def get_top_words(column, top_nu_of_words, nu_of_word):    \n",
    "    vec = CountVectorizer(ngram_range= nu_of_word)\n",
    "    bag_of_words = vec.fit_transform(column)\n",
    "    sum_words = bag_of_words.sum(axis=0)\n",
    "    words_freq = [(word, sum_words[0, idx]) for word, idx in vec.vocabulary_.items()]\n",
    "    words_freq =sorted(words_freq, key = lambda x: x[1], reverse=True)\n",
    "    return words_freq[:top_nu_of_words]\n",
    "\n",
    "#Top 20 two word frequencies for Restaurants\n",
    "list1 = get_top_words(cb_restaurants_df['review'], 20, (2,2))\n",
    "\n",
    "df_words1 = pd.DataFrame(list1, columns=['Word', 'Count'])\n",
    "\n",
    "plt.figure(figsize=(15,10))\n",
    "sns.barplot(data=df_words1, x='Count', y='Word',color = 'blue')\n",
    "plt.title('Word Couple Frequency for reviews');"
   ]
  },
  {
   "cell_type": "markdown",
   "id": "31b66700",
   "metadata": {},
   "source": [
    "## TF-IDF method"
   ]
  },
  {
   "cell_type": "code",
   "execution_count": 135,
   "id": "dc72d1e5",
   "metadata": {},
   "outputs": [],
   "source": [
    "# Saving indexes in a series\n",
    "indices = pd.Series(cb_restaurants_df.index)\n",
    "\n",
    "# Creating tf-idf matrix\n",
    "tfidf = TfidfVectorizer(analyzer='word', ngram_range=(1, 2), min_df=0, stop_words='english')\n",
    "tfidf_matrix = tfidf.fit_transform(cb_restaurants_df['review'])\n",
    "\n",
    "# Calculating cosine similarities\n",
    "cosine_similarities = linear_kernel(tfidf_matrix, tfidf_matrix)"
   ]
  },
  {
   "cell_type": "markdown",
   "id": "0f9aac8d",
   "metadata": {},
   "source": [
    "## Content-based recommender system using correlation "
   ]
  },
  {
   "cell_type": "code",
   "execution_count": 211,
   "id": "e48f2340",
   "metadata": {},
   "outputs": [],
   "source": [
    "ratings_mean_count = ratings_mean_count.set_index('restaurant')"
   ]
  },
  {
   "cell_type": "code",
   "execution_count": 252,
   "id": "c9b3e0d9",
   "metadata": {},
   "outputs": [],
   "source": [
    "def recommender_content_based_correlation(name,user_rating_matrix, ratings_mean_count,num):\n",
    "    rest = user_rating_matrix[name]\n",
    "    rest_like_name = user_rating_matrix.corrwith(rest)\n",
    "    corr_rest = pd.DataFrame(rest_like_name, columns=['Correlation'])\n",
    "    corr_rest.dropna(inplace=True)\n",
    "    corr_rest = corr_rest.join(ratings_mean_count['rating_counts'])\n",
    "    corr_rest = corr_rest[corr_rest ['rating_counts']>100].sort_values('Correlation', ascending=False)\n",
    "    corr_rest = corr_rest.join(cb_restaurants_df['mean_rating'])\n",
    "    corr_rest = corr_rest.join(cb_restaurants_df['address'])\n",
    "    print('Top %s restaurants like %s with similar reviews finding using correlation: ' % (num, name))\n",
    "    #corr_rest = corr_rest.reset_index()\n",
    "    return corr_rest[['mean_rating','address']]"
   ]
  },
  {
   "cell_type": "code",
   "execution_count": 253,
   "id": "3b67a320",
   "metadata": {},
   "outputs": [
    {
     "name": "stderr",
     "output_type": "stream",
     "text": [
      "C:\\Users\\Elisaveta\\anaconda3\\lib\\site-packages\\numpy\\lib\\function_base.py:2634: RuntimeWarning:\n",
      "\n",
      "Degrees of freedom <= 0 for slice\n",
      "\n",
      "C:\\Users\\Elisaveta\\anaconda3\\lib\\site-packages\\numpy\\lib\\function_base.py:2493: RuntimeWarning:\n",
      "\n",
      "divide by zero encountered in true_divide\n",
      "\n"
     ]
    },
    {
     "name": "stdout",
     "output_type": "stream",
     "text": [
      "Top 10 restaurants like Amo Cucinare with similar reviews finding using correlation: \n"
     ]
    },
    {
     "data": {
      "text/html": [
       "<div>\n",
       "<style scoped>\n",
       "    .dataframe tbody tr th:only-of-type {\n",
       "        vertical-align: middle;\n",
       "    }\n",
       "\n",
       "    .dataframe tbody tr th {\n",
       "        vertical-align: top;\n",
       "    }\n",
       "\n",
       "    .dataframe thead th {\n",
       "        text-align: right;\n",
       "    }\n",
       "</style>\n",
       "<table border=\"1\" class=\"dataframe\">\n",
       "  <thead>\n",
       "    <tr style=\"text-align: right;\">\n",
       "      <th></th>\n",
       "      <th>mean_rating</th>\n",
       "      <th>address</th>\n",
       "    </tr>\n",
       "    <tr>\n",
       "      <th>restaurant</th>\n",
       "      <th></th>\n",
       "      <th></th>\n",
       "    </tr>\n",
       "  </thead>\n",
       "  <tbody>\n",
       "    <tr>\n",
       "      <th>Amo Cucinare</th>\n",
       "      <td>4.44</td>\n",
       "      <td>Большая Конюшенная ул., 5, Санкт-Петербург, Ро...</td>\n",
       "    </tr>\n",
       "    <tr>\n",
       "      <th>Duo</th>\n",
       "      <td>4.59</td>\n",
       "      <td>Кирочная ул., 8А, Санкт-Петербург, Россия, 191028</td>\n",
       "    </tr>\n",
       "    <tr>\n",
       "      <th>Volga-Volga</th>\n",
       "      <td>4.56</td>\n",
       "      <td>Санкт-Петербург Петровская набережная 8 спуск ...</td>\n",
       "    </tr>\n",
       "    <tr>\n",
       "      <th>Юми</th>\n",
       "      <td>4.51</td>\n",
       "      <td>Разъезжая ул., 10/15, 1 этаж, Санкт-Петербург,...</td>\n",
       "    </tr>\n",
       "    <tr>\n",
       "      <th>Мари Vаnnа</th>\n",
       "      <td>4.70</td>\n",
       "      <td>Мытнинская наб., 3, Санкт-Петербург, Россия, 1...</td>\n",
       "    </tr>\n",
       "    <tr>\n",
       "      <th>Счастье</th>\n",
       "      <td>4.35</td>\n",
       "      <td>ул. Рубинштейна, 15-17, Санкт-Петербург, Росси...</td>\n",
       "    </tr>\n",
       "    <tr>\n",
       "      <th>Греческая таверна Сиртаки</th>\n",
       "      <td>4.41</td>\n",
       "      <td>Невский пр., 102, 2 этаж, Санкт-Петербург, Рос...</td>\n",
       "    </tr>\n",
       "    <tr>\n",
       "      <th>Сулико</th>\n",
       "      <td>4.60</td>\n",
       "      <td>Казанская ул., 6, Санкт-Петербург, Россия, 190000</td>\n",
       "    </tr>\n",
       "    <tr>\n",
       "      <th>Jerome</th>\n",
       "      <td>4.48</td>\n",
       "      <td>Большая Морская ул., 25, Санкт-Петербург, Росс...</td>\n",
       "    </tr>\n",
       "    <tr>\n",
       "      <th>Мы же на ты</th>\n",
       "      <td>4.62</td>\n",
       "      <td>ул. Марата, 10, Санкт-Петербург, Россия, 191025</td>\n",
       "    </tr>\n",
       "  </tbody>\n",
       "</table>\n",
       "</div>"
      ],
      "text/plain": [
       "                           mean_rating  \\\n",
       "restaurant                               \n",
       "Amo Cucinare                      4.44   \n",
       "Duo                               4.59   \n",
       "Volga-Volga                       4.56   \n",
       "Юми                               4.51   \n",
       "Мари Vаnnа                        4.70   \n",
       "Счастье                           4.35   \n",
       "Греческая таверна Сиртаки         4.41   \n",
       "Сулико                            4.60   \n",
       "Jerome                            4.48   \n",
       "Мы же на ты                       4.62   \n",
       "\n",
       "                                                                     address  \n",
       "restaurant                                                                    \n",
       "Amo Cucinare               Большая Конюшенная ул., 5, Санкт-Петербург, Ро...  \n",
       "Duo                        Кирочная ул., 8А, Санкт-Петербург, Россия, 191028  \n",
       "Volga-Volga                Санкт-Петербург Петровская набережная 8 спуск ...  \n",
       "Юми                        Разъезжая ул., 10/15, 1 этаж, Санкт-Петербург,...  \n",
       "Мари Vаnnа                 Мытнинская наб., 3, Санкт-Петербург, Россия, 1...  \n",
       "Счастье                    ул. Рубинштейна, 15-17, Санкт-Петербург, Росси...  \n",
       "Греческая таверна Сиртаки  Невский пр., 102, 2 этаж, Санкт-Петербург, Рос...  \n",
       "Сулико                     Казанская ул., 6, Санкт-Петербург, Россия, 190000  \n",
       "Jerome                     Большая Морская ул., 25, Санкт-Петербург, Росс...  \n",
       "Мы же на ты                  ул. Марата, 10, Санкт-Петербург, Россия, 191025  "
      ]
     },
     "execution_count": 253,
     "metadata": {},
     "output_type": "execute_result"
    }
   ],
   "source": [
    "recommender_content_based_correlation('Amo Cucinare',user_rating_matrix, ratings_mean_count,10).head(10)"
   ]
  },
  {
   "cell_type": "markdown",
   "id": "0546ba55",
   "metadata": {},
   "source": [
    "## Content-based recommender system using cosinus similarities "
   ]
  },
  {
   "cell_type": "code",
   "execution_count": 242,
   "id": "a3042aba",
   "metadata": {},
   "outputs": [],
   "source": [
    "def recommender_content_based_cosine_similarities(name, cosine_similarities = cosine_similarities):\n",
    "    # Create a list to put top 10 restaurants\n",
    "    recommend_restaurant = []\n",
    "    # Find the index of the restaurant entered\n",
    "    idx = indices[indices == name].index[0]\n",
    "    # Find the restaurants with a similar cosine-sim value and order them from bigges number\n",
    "    score_series = pd.Series(cosine_similarities[idx]).sort_values(ascending=False)    \n",
    "    # Extract top 30 restaurant indexes with a similar cosine-sim value\n",
    "    top30_indexes = list(score_series.iloc[0:31].index)\n",
    "    \n",
    "    # Names of the top 30 restaurants\n",
    "    for each in top30_indexes:\n",
    "        recommend_restaurant.append(list(cb_restaurants_df.index)[each])    \n",
    "    # Creating the new data set to show similar restaurants\n",
    "    df_new = pd.DataFrame(columns=[ 'mean_rating', 'address'])\n",
    "    \n",
    "    # Create the top 30 similar restaurants with some of their columns\n",
    "    for each in recommend_restaurant:\n",
    "        df_new = df_new.append(pd.DataFrame(cb_restaurants_df[['mean_rating','address']][cb_restaurants_df.index == each].sample()))\n",
    "    \n",
    "    \n",
    "    df_new = df_new.drop([name])\n",
    "    # Drop the same named restaurants and sort only the top 10 by the highest rating\n",
    "    df_new = df_new.drop_duplicates(subset=['mean_rating','address'], keep=False)\n",
    "    df_new = df_new.sort_values(by='mean_rating', ascending=False).head(10)\n",
    "    \n",
    "    print('Top %s restaurants like %s with similar reviews using cosine similarities: ' % (str(len(df_new)), name))\n",
    "    \n",
    "    return df_new"
   ]
  },
  {
   "cell_type": "code",
   "execution_count": 243,
   "id": "8b8a1f51",
   "metadata": {},
   "outputs": [
    {
     "name": "stdout",
     "output_type": "stream",
     "text": [
      "Top 10 restaurants like Amo Cucinare with similar reviews using cosine similarities: \n"
     ]
    },
    {
     "data": {
      "text/html": [
       "<div>\n",
       "<style scoped>\n",
       "    .dataframe tbody tr th:only-of-type {\n",
       "        vertical-align: middle;\n",
       "    }\n",
       "\n",
       "    .dataframe tbody tr th {\n",
       "        vertical-align: top;\n",
       "    }\n",
       "\n",
       "    .dataframe thead th {\n",
       "        text-align: right;\n",
       "    }\n",
       "</style>\n",
       "<table border=\"1\" class=\"dataframe\">\n",
       "  <thead>\n",
       "    <tr style=\"text-align: right;\">\n",
       "      <th></th>\n",
       "      <th>mean_rating</th>\n",
       "      <th>address</th>\n",
       "    </tr>\n",
       "  </thead>\n",
       "  <tbody>\n",
       "    <tr>\n",
       "      <th>Schengen</th>\n",
       "      <td>4.73</td>\n",
       "      <td>Кирочная ул., 5, Санкт-Петербург, Россия, 191028</td>\n",
       "    </tr>\n",
       "    <tr>\n",
       "      <th>Банщики</th>\n",
       "      <td>4.71</td>\n",
       "      <td>Дегтярная ул., 1А, Санкт-Петербург, Россия, 19...</td>\n",
       "    </tr>\n",
       "    <tr>\n",
       "      <th>Harvest</th>\n",
       "      <td>4.70</td>\n",
       "      <td>пр. Добролюбова, 11, Санкт-Петербург, Россия, ...</td>\n",
       "    </tr>\n",
       "    <tr>\n",
       "      <th>Serbish</th>\n",
       "      <td>4.69</td>\n",
       "      <td>ул. Пестеля, 8/36, Санкт-Петербург, Россия, 19...</td>\n",
       "    </tr>\n",
       "    <tr>\n",
       "      <th>Ресторан Ферма на финляндском (Доставка)</th>\n",
       "      <td>4.68</td>\n",
       "      <td>Финляндский пр., 1, Санкт-Петербург, Россия, 1...</td>\n",
       "    </tr>\n",
       "    <tr>\n",
       "      <th>Северянин</th>\n",
       "      <td>4.68</td>\n",
       "      <td>Столярный пер., 18/69, Санкт-Петербург, Россия...</td>\n",
       "    </tr>\n",
       "    <tr>\n",
       "      <th>ЭТНОС</th>\n",
       "      <td>4.65</td>\n",
       "      <td>Кузнечный пер., 8, Санкт-Петербург, Россия, 19...</td>\n",
       "    </tr>\n",
       "    <tr>\n",
       "      <th>Гости</th>\n",
       "      <td>4.61</td>\n",
       "      <td>Малая Морская ул., 13, Санкт-Петербург, Россия...</td>\n",
       "    </tr>\n",
       "    <tr>\n",
       "      <th>Duo Asia</th>\n",
       "      <td>4.61</td>\n",
       "      <td>ул. Рубинштейна, 20, Санкт-Петербург, Россия, ...</td>\n",
       "    </tr>\n",
       "    <tr>\n",
       "      <th>Сулико</th>\n",
       "      <td>4.60</td>\n",
       "      <td>Казанская ул., 6, Санкт-Петербург, Россия, 190000</td>\n",
       "    </tr>\n",
       "  </tbody>\n",
       "</table>\n",
       "</div>"
      ],
      "text/plain": [
       "                                          mean_rating  \\\n",
       "Schengen                                         4.73   \n",
       "Банщики                                          4.71   \n",
       "Harvest                                          4.70   \n",
       "Serbish                                          4.69   \n",
       "Ресторан Ферма на финляндском (Доставка)         4.68   \n",
       "Северянин                                        4.68   \n",
       "ЭТНОС                                            4.65   \n",
       "Гости                                            4.61   \n",
       "Duo Asia                                         4.61   \n",
       "Сулико                                           4.60   \n",
       "\n",
       "                                                                                    address  \n",
       "Schengen                                   Кирочная ул., 5, Санкт-Петербург, Россия, 191028  \n",
       "Банщики                                   Дегтярная ул., 1А, Санкт-Петербург, Россия, 19...  \n",
       "Harvest                                   пр. Добролюбова, 11, Санкт-Петербург, Россия, ...  \n",
       "Serbish                                   ул. Пестеля, 8/36, Санкт-Петербург, Россия, 19...  \n",
       "Ресторан Ферма на финляндском (Доставка)  Финляндский пр., 1, Санкт-Петербург, Россия, 1...  \n",
       "Северянин                                 Столярный пер., 18/69, Санкт-Петербург, Россия...  \n",
       "ЭТНОС                                     Кузнечный пер., 8, Санкт-Петербург, Россия, 19...  \n",
       "Гости                                     Малая Морская ул., 13, Санкт-Петербург, Россия...  \n",
       "Duo Asia                                  ул. Рубинштейна, 20, Санкт-Петербург, Россия, ...  \n",
       "Сулико                                    Казанская ул., 6, Санкт-Петербург, Россия, 190000  "
      ]
     },
     "execution_count": 243,
     "metadata": {},
     "output_type": "execute_result"
    }
   ],
   "source": [
    "recommender_content_based_cosine_similarities('Amo Cucinare')"
   ]
  },
  {
   "cell_type": "code",
   "execution_count": null,
   "id": "ac1e0548",
   "metadata": {},
   "outputs": [],
   "source": []
  }
 ],
 "metadata": {
  "kernelspec": {
   "display_name": "Python 3",
   "language": "python",
   "name": "python3"
  },
  "language_info": {
   "codemirror_mode": {
    "name": "ipython",
    "version": 3
   },
   "file_extension": ".py",
   "mimetype": "text/x-python",
   "name": "python",
   "nbconvert_exporter": "python",
   "pygments_lexer": "ipython3",
   "version": "3.8.8"
  }
 },
 "nbformat": 4,
 "nbformat_minor": 5
}
