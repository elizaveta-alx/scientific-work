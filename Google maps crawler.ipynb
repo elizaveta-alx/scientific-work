{
 "cells": [
  {
   "cell_type": "markdown",
   "id": "3ccc9864",
   "metadata": {},
   "source": [
    "# Reviews gathering"
   ]
  },
  {
   "cell_type": "raw",
   "id": "7377ad45",
   "metadata": {},
   "source": [
    "https://towardsdatascience.com/scraping-google-maps-reviews-in-python-2b153c655fc2"
   ]
  },
  {
   "cell_type": "code",
   "execution_count": 1,
   "id": "0a901ad1",
   "metadata": {},
   "outputs": [
    {
     "name": "stdout",
     "output_type": "stream",
     "text": [
      "Requirement already satisfied: selenium in c:\\users\\elisaveta\\anaconda3\\lib\\site-packages (4.3.0)\n",
      "Requirement already satisfied: trio~=0.17 in c:\\users\\elisaveta\\anaconda3\\lib\\site-packages (from selenium) (0.21.0)\n",
      "Requirement already satisfied: urllib3[secure,socks]~=1.26 in c:\\users\\elisaveta\\anaconda3\\lib\\site-packages (from selenium) (1.26.4)\n",
      "Requirement already satisfied: trio-websocket~=0.9 in c:\\users\\elisaveta\\anaconda3\\lib\\site-packages (from selenium) (0.9.2)\n",
      "Requirement already satisfied: idna in c:\\users\\elisaveta\\anaconda3\\lib\\site-packages (from trio~=0.17->selenium) (2.10)\n",
      "Requirement already satisfied: attrs>=19.2.0 in c:\\users\\elisaveta\\anaconda3\\lib\\site-packages (from trio~=0.17->selenium) (20.3.0)\n",
      "Requirement already satisfied: sortedcontainers in c:\\users\\elisaveta\\anaconda3\\lib\\site-packages (from trio~=0.17->selenium) (2.3.0)\n",
      "Requirement already satisfied: async-generator>=1.9 in c:\\users\\elisaveta\\anaconda3\\lib\\site-packages (from trio~=0.17->selenium) (1.10)\n",
      "Requirement already satisfied: sniffio in c:\\users\\elisaveta\\anaconda3\\lib\\site-packages (from trio~=0.17->selenium) (1.2.0)\n",
      "Requirement already satisfied: cffi>=1.14 in c:\\users\\elisaveta\\anaconda3\\lib\\site-packages (from trio~=0.17->selenium) (1.14.5)\n",
      "Requirement already satisfied: outcome in c:\\users\\elisaveta\\anaconda3\\lib\\site-packages (from trio~=0.17->selenium) (1.2.0)\n",
      "Requirement already satisfied: pycparser in c:\\users\\elisaveta\\anaconda3\\lib\\site-packages (from cffi>=1.14->trio~=0.17->selenium) (2.20)\n",
      "Requirement already satisfied: wsproto>=0.14 in c:\\users\\elisaveta\\anaconda3\\lib\\site-packages (from trio-websocket~=0.9->selenium) (1.1.0)\n",
      "Requirement already satisfied: PySocks!=1.5.7,<2.0,>=1.5.6 in c:\\users\\elisaveta\\anaconda3\\lib\\site-packages (from urllib3[secure,socks]~=1.26->selenium) (1.7.1)\n",
      "Requirement already satisfied: certifi in c:\\users\\elisaveta\\anaconda3\\lib\\site-packages (from urllib3[secure,socks]~=1.26->selenium) (2020.12.5)\n",
      "Requirement already satisfied: cryptography>=1.3.4 in c:\\users\\elisaveta\\anaconda3\\lib\\site-packages (from urllib3[secure,socks]~=1.26->selenium) (3.4.7)\n",
      "Requirement already satisfied: pyOpenSSL>=0.14 in c:\\users\\elisaveta\\anaconda3\\lib\\site-packages (from urllib3[secure,socks]~=1.26->selenium) (20.0.1)\n",
      "Requirement already satisfied: six>=1.5.2 in c:\\users\\elisaveta\\anaconda3\\lib\\site-packages (from pyOpenSSL>=0.14->urllib3[secure,socks]~=1.26->selenium) (1.15.0)\n",
      "Requirement already satisfied: h11<1,>=0.9.0 in c:\\users\\elisaveta\\anaconda3\\lib\\site-packages (from wsproto>=0.14->trio-websocket~=0.9->selenium) (0.13.0)\n",
      "Requirement already satisfied: parsel in c:\\users\\elisaveta\\anaconda3\\lib\\site-packages (1.6.0)\n",
      "Requirement already satisfied: cssselect>=0.9 in c:\\users\\elisaveta\\anaconda3\\lib\\site-packages (from parsel) (1.1.0)\n",
      "Requirement already satisfied: six>=1.6.0 in c:\\users\\elisaveta\\anaconda3\\lib\\site-packages (from parsel) (1.15.0)\n",
      "Requirement already satisfied: w3lib>=1.19.0 in c:\\users\\elisaveta\\anaconda3\\lib\\site-packages (from parsel) (1.22.0)\n",
      "Requirement already satisfied: lxml in c:\\users\\elisaveta\\anaconda3\\lib\\site-packages (from parsel) (4.6.3)\n"
     ]
    }
   ],
   "source": [
    "!pip install selenium\n",
    "!pip install parsel"
   ]
  },
  {
   "cell_type": "code",
   "execution_count": 82,
   "id": "f3c01565",
   "metadata": {},
   "outputs": [],
   "source": [
    "from selenium import webdriver\n",
    "from selenium.webdriver.common.by import By\n",
    "from selenium.webdriver.support.ui import WebDriverWait\n",
    "from selenium.webdriver.support import expected_conditions as EC\n",
    "import time\n",
    "from bs4 import BeautifulSoup\n",
    "import pandas as pd\n",
    "from tqdm import tqdm\n",
    "from parsel import Selector"
   ]
  },
  {
   "cell_type": "code",
   "execution_count": 38,
   "id": "9765a1a3",
   "metadata": {},
   "outputs": [
    {
     "name": "stderr",
     "output_type": "stream",
     "text": [
      "<ipython-input-38-7684a8b95aa7>:3: DeprecationWarning: executable_path has been deprecated, please pass in a Service object\n",
      "  driver = webdriver.Chrome(chromedrive_path)\n"
     ]
    }
   ],
   "source": [
    "#initialize driver\n",
    "chromedrive_path = './chromedriver' \n",
    "driver = webdriver.Chrome(chromedrive_path)\n",
    "driver.maximize_window()\n",
    "\n",
    "url= 'https://goo.gl/maps/5H1GciEx32y9WbWd6' #Мама на даче · Невский пр., 88, Санкт-Петербург, Россия, 191025\n",
    "\n",
    "SCROLL_PAUSE_TIME = 5"
   ]
  },
  {
   "cell_type": "code",
   "execution_count": 65,
   "id": "db420ad5",
   "metadata": {},
   "outputs": [],
   "source": [
    "#open new windows in google chrome and accept all cookies\n",
    "def open_chrome(driver, url):\n",
    "    #url = 'https://www.google.fr/maps/place/%D0%A0%D0%B5%D1%81%D1%82%D0%BE%D1%80%D0%B0%D0%BD+Garden+Street/@59.9369701,30.3031466,14z/data=!3m1!5s0x469631099bfd6079:0xe600998a593c8e61!4m9!1m2!2m1!1zcmVzdGF1cmFudHMg0YDRj9C00L7QvCDRgSBTYWludCBQZXRlcnNidXJnLCDQoNC-0YHRgdC40Y8!3m5!1s0x469631d54a248c9d:0x503243598899952d!8m2!3d59.9369701!4d30.3381655!15sCjhyZXN0YXVyYW50cyDRgNGP0LTQvtC8INGBIFNhaW50IFBldGVyc2J1cmcsINCg0L7RgdGB0LjRj1o5IjdyZXN0YXVyYW50cyDRgNGP0LTQvtC8INGBIHNhaW50IHBldGVyc2J1cmcg0YDQvtGB0YHQuNGPkgEKcmVzdGF1cmFudOABAA'\n",
    "    #url= 'https://goo.gl/maps/5H1GciEx32y9WbWd6'\n",
    "    driver.get(url)\n",
    "    wait = WebDriverWait(driver, 10)\n",
    "    \n",
    "    #accept cookies\n",
    "    accept_all = wait.until(EC.element_to_be_clickable((By.XPATH, '//button[@aria-label=\\'Принять все\\']')))  \n",
    "    accept_all.click()\n",
    "    \n",
    "    #Scroll down to bottom\n",
    "    ele = driver.find_element(By.XPATH,'//*[@id=\"QA0Szd\"]/div/div/div[1]/div[2]/div/div[1]/div/div/div[2]')\n",
    "    driver.execute_script('arguments[0].scrollBy(0, 1000);', ele)\n",
    "    wait = WebDriverWait(driver, 10)\n",
    "    \n",
    "    #go to pape with all reviews\n",
    "    see_all_reviews = wait.until(EC.element_to_be_clickable((By.XPATH, '//button[contains(@aria-label,\"Ещё отзывы\")]')))  \n",
    "    see_all_reviews.click()\n",
    "    time.sleep(5)"
   ]
  },
  {
   "cell_type": "code",
   "execution_count": 4,
   "id": "df97d5cd",
   "metadata": {},
   "outputs": [],
   "source": [
    "#function for showing all context of each review\n",
    "#10 is number of reviews in page before scrolling\n",
    "def see_all_review(driver):\n",
    "    for r in range(10):\n",
    "        wait = WebDriverWait(driver, 10)\n",
    "        see_all_button = wait.until(EC.element_to_be_clickable(\n",
    "                           (By.XPATH, '//button[@aria-label=\\'Ещё\\']'))\n",
    "                       )  \n",
    "        see_all_button.click()\n",
    "        r=-1"
   ]
  },
  {
   "cell_type": "code",
   "execution_count": 5,
   "id": "8d05ec25",
   "metadata": {},
   "outputs": [],
   "source": [
    "def scrolling_page(driver,page_num):\n",
    "    #page_num is number of page for scrolling and equals as [number of reviews]/10\n",
    "    \n",
    "    # Get scroll height\n",
    "    last_height = driver.execute_script(\"return document.body.scrollHeight\")\n",
    "    number = 0\n",
    "    \n",
    "\n",
    "    while page_num>0:\n",
    "        while True:\n",
    "            number = number+1\n",
    "            try:\n",
    "                see_all_review(driver)#show full review\n",
    "            except Exception:\n",
    "                #print('1')\n",
    "                pass                \n",
    "            # Scroll down to bottom\n",
    "            ele = driver.find_element(By.XPATH,'//*[@id=\"QA0Szd\"]/div/div/div[1]/div[2]/div/div[1]/div/div/div[2]')\n",
    "            driver.execute_script('arguments[0].scrollBy(0, 5000);', ele)\n",
    "            \n",
    "            # Wait to load page\n",
    "            time.sleep(SCROLL_PAUSE_TIME)\n",
    "\n",
    "            # Calculate new scroll height and compare with last scroll height\n",
    "            #print(f'last height: {last_height}')\n",
    "\n",
    "            ele = driver.find_element(By.XPATH,'//*[@id=\"QA0Szd\"]/div/div/div[1]/div[2]/div/div[1]/div/div/div[2]')\n",
    "            new_height = driver.execute_script(\"return arguments[0].scrollHeight\", ele)\n",
    "\n",
    "            #print(f'new height: {new_height}')\n",
    "\n",
    "            if number == 5:\n",
    "                break\n",
    "\n",
    "            if new_height == last_height:\n",
    "                page_num-=1\n",
    "                print(page_num)\n",
    "                break\n",
    "            #print('cont')\n",
    "            last_height = new_height"
   ]
  },
  {
   "cell_type": "code",
   "execution_count": 17,
   "id": "f5c3ae05",
   "metadata": {},
   "outputs": [],
   "source": [
    "restaurants_name = 'Мама на даче'\n",
    "restaurants_adress = ' Невский пр., 88, Санкт-Петербург, Россия, 191025'"
   ]
  },
  {
   "cell_type": "code",
   "execution_count": 21,
   "id": "76633e29",
   "metadata": {},
   "outputs": [],
   "source": [
    "def extract_data(driver):\n",
    "    response = BeautifulSoup(driver.page_source, 'html.parser') #get html page code\n",
    "    rlist = response.find_all('div', class_='jJc9Ad') #create list with reviews data\n",
    "    \n",
    "    reviews_data = []#empty list for \n",
    "    \n",
    "    for r in tqdm(rlist):\n",
    "        #rev_data=[]\n",
    "        #id_r = r.find('button', class_='PP3Y3d S1qRNe')['data-review-id']\n",
    "        username = r.find('div',class_='d4r55').find('span').text\n",
    "        date = r.find('span',class_='rsqaWe').text\n",
    "        try:\n",
    "            review_text = r.find('span', class_='wiI7pd').text\n",
    "        except Exception:\n",
    "            review_text = None\n",
    "        rating = r.find('span', class_='kvMYJc')['aria-label'][1]    \n",
    "\n",
    "        reviews_data.append({restaurants_name,restaurants_adress, username,date,review_text,rating})\n",
    "    \n",
    "    reviews_df = pd.DataFrame(reviews_data, columns =['restaurant','adress','name','date','review','rating'])\n",
    "    \n",
    "    return reviews_df"
   ]
  },
  {
   "cell_type": "code",
   "execution_count": 68,
   "id": "d6f8ce30",
   "metadata": {},
   "outputs": [],
   "source": [
    "url= 'https://goo.gl/maps/5H1GciEx32y9WbWd6' #Мама на даче · Невский пр., 88, Санкт-Петербург, Россия, 191025\n",
    "\n",
    "def load_tasks(url,restaurants_name,address,page_num_for_scroll):\n",
    "    SCROLL_PAUSE_TIME = 5\n",
    "    chromedrive_path = './chromedriver' \n",
    "    driver = webdriver.Chrome(chromedrive_path)\n",
    "    driver.maximize_window()\n",
    "    open_chrome(driver, url)\n",
    "    scrolling_page(driver,page_num_for_scroll)\n",
    "    df_reviews = extract_data(driver)\n",
    "    df_reviews.to_csv(f'./resturaunt_reviews/restaurant_{restaurants_name}.csv',index=False)\n",
    "        "
   ]
  },
  {
   "cell_type": "code",
   "execution_count": null,
   "id": "653e0a15",
   "metadata": {},
   "outputs": [],
   "source": [
    "for rest in tqdm(restaurants_df):\n",
    "    load_tasks(restaurants_df.link,restaurants_df.title,restaurants_df,address,250)"
   ]
  },
  {
   "cell_type": "code",
   "execution_count": 71,
   "id": "f97b784d",
   "metadata": {
    "collapsed": true
   },
   "outputs": [
    {
     "name": "stderr",
     "output_type": "stream",
     "text": [
      "<ipython-input-68-d4110ef000fe>:6: DeprecationWarning: executable_path has been deprecated, please pass in a Service object\n",
      "  driver = webdriver.Chrome(chromedrive_path)\n"
     ]
    },
    {
     "name": "stdout",
     "output_type": "stream",
     "text": [
      "145\n",
      "144\n",
      "143\n",
      "142\n",
      "141\n",
      "140\n",
      "139\n",
      "138\n",
      "137\n",
      "136\n",
      "135\n",
      "134\n",
      "133\n",
      "132\n",
      "131\n",
      "130\n",
      "129\n",
      "128\n",
      "127\n",
      "126\n",
      "125\n",
      "124\n",
      "123\n",
      "122\n",
      "121\n",
      "120\n",
      "119\n",
      "118\n",
      "117\n",
      "116\n",
      "115\n",
      "114\n",
      "113\n",
      "112\n",
      "111\n",
      "110\n",
      "109\n",
      "108\n",
      "107\n",
      "106\n",
      "105\n",
      "104\n",
      "103\n",
      "102\n",
      "101\n",
      "100\n",
      "99\n",
      "98\n",
      "97\n",
      "96\n",
      "95\n",
      "94\n",
      "93\n",
      "92\n",
      "91\n",
      "90\n",
      "89\n",
      "88\n",
      "87\n",
      "86\n",
      "85\n",
      "84\n",
      "83\n",
      "82\n",
      "81\n",
      "80\n",
      "79\n",
      "78\n",
      "77\n",
      "76\n",
      "75\n",
      "74\n",
      "73\n",
      "72\n",
      "71\n",
      "70\n",
      "69\n",
      "68\n",
      "67\n",
      "66\n",
      "65\n",
      "64\n",
      "63\n",
      "62\n",
      "61\n",
      "60\n",
      "59\n",
      "58\n",
      "57\n",
      "56\n",
      "55\n",
      "54\n",
      "53\n",
      "52\n",
      "51\n",
      "50\n",
      "49\n",
      "48\n",
      "47\n",
      "46\n",
      "45\n",
      "44\n",
      "43\n",
      "42\n",
      "41\n",
      "40\n",
      "39\n",
      "38\n",
      "37\n",
      "36\n",
      "35\n",
      "34\n",
      "33\n",
      "32\n",
      "31\n",
      "30\n",
      "29\n",
      "28\n",
      "27\n",
      "26\n",
      "25\n",
      "24\n",
      "23\n",
      "22\n",
      "21\n",
      "20\n",
      "19\n",
      "18\n",
      "17\n",
      "16\n",
      "15\n",
      "14\n",
      "13\n",
      "12\n",
      "11\n",
      "10\n",
      "9\n",
      "8\n",
      "7\n",
      "6\n",
      "5\n",
      "4\n",
      "3\n",
      "2\n",
      "1\n",
      "0\n"
     ]
    },
    {
     "name": "stderr",
     "output_type": "stream",
     "text": [
      "100%|██████████████████████████████████████████████████████████████████████████████| 930/930 [00:00<00:00, 2456.47it/s]\n"
     ]
    }
   ],
   "source": [
    "url_1 = 'https://www.google.com/maps/place/%D0%9B%D0%B5%D1%82%D1%83%D1%87%D0%B8%D0%B9+%D0%93%D0%BE%D0%BB%D0%BB%D0%B0%D0%BD%D0%B4%D0%B5%D1%86/data=!4m7!3m6!1s0x46963110689418ad:0xd93d016704ae9f7e!8m2!3d59.9477587!4d30.3056756!16s%2Fg%2F1tdmz50y!19sChIJrRiUaBAxlkYRfp-uBGcBPdk?authuser=0&hl=ru&rclk=1'\n",
    "restaurants_name = 'Летучий Голландец'\n",
    "address = 'Мытнинская наб., 6, Санкт-Петербург, Россия, 197198'\n",
    "\n",
    "load_tasks(url_1,'Летучий Голландец','Мытнинская наб., 6, Санкт-Петербург, Россия, 197198',146)"
   ]
  },
  {
   "cell_type": "code",
   "execution_count": 12,
   "id": "b7681694",
   "metadata": {},
   "outputs": [],
   "source": [
    "driver = driver_initialization()\n",
    "open_chrome(driver, url)"
   ]
  },
  {
   "cell_type": "code",
   "execution_count": 13,
   "id": "98a219fb",
   "metadata": {
    "collapsed": true
   },
   "outputs": [
    {
     "name": "stdout",
     "output_type": "stream",
     "text": [
      "249\n",
      "248\n",
      "247\n",
      "246\n",
      "245\n",
      "244\n",
      "243\n",
      "242\n",
      "241\n",
      "240\n",
      "239\n",
      "238\n",
      "237\n",
      "236\n",
      "235\n",
      "234\n",
      "233\n",
      "232\n",
      "231\n",
      "230\n",
      "229\n",
      "228\n",
      "227\n",
      "226\n",
      "225\n",
      "224\n",
      "223\n",
      "222\n",
      "221\n",
      "220\n",
      "219\n",
      "218\n",
      "217\n",
      "216\n",
      "215\n",
      "214\n",
      "213\n",
      "212\n",
      "211\n",
      "210\n",
      "209\n",
      "208\n",
      "207\n",
      "206\n",
      "205\n",
      "204\n",
      "203\n",
      "202\n",
      "201\n",
      "200\n",
      "199\n",
      "198\n",
      "197\n",
      "196\n",
      "195\n",
      "194\n",
      "193\n",
      "192\n",
      "191\n",
      "190\n",
      "189\n",
      "188\n",
      "187\n",
      "186\n",
      "185\n",
      "184\n",
      "183\n",
      "182\n",
      "181\n",
      "180\n",
      "179\n",
      "178\n",
      "177\n",
      "176\n",
      "175\n",
      "174\n",
      "173\n",
      "172\n",
      "171\n",
      "170\n",
      "169\n",
      "168\n",
      "167\n",
      "166\n",
      "165\n",
      "164\n",
      "163\n",
      "162\n",
      "161\n",
      "160\n",
      "159\n",
      "158\n",
      "157\n",
      "156\n",
      "155\n",
      "154\n",
      "153\n",
      "152\n",
      "151\n",
      "150\n",
      "149\n",
      "148\n",
      "147\n",
      "146\n",
      "145\n",
      "144\n",
      "143\n",
      "142\n",
      "141\n",
      "140\n",
      "139\n",
      "138\n",
      "137\n",
      "136\n",
      "135\n",
      "134\n",
      "133\n",
      "132\n",
      "131\n",
      "130\n",
      "129\n",
      "128\n",
      "127\n",
      "126\n",
      "125\n",
      "124\n",
      "123\n",
      "122\n",
      "121\n",
      "120\n",
      "119\n",
      "118\n",
      "117\n",
      "116\n",
      "115\n",
      "114\n",
      "113\n",
      "112\n",
      "111\n",
      "110\n",
      "109\n",
      "108\n",
      "107\n",
      "106\n",
      "105\n",
      "104\n",
      "103\n",
      "102\n",
      "101\n",
      "100\n",
      "99\n",
      "98\n",
      "97\n",
      "96\n",
      "95\n",
      "94\n",
      "93\n",
      "92\n",
      "91\n",
      "90\n",
      "89\n",
      "88\n",
      "87\n",
      "86\n",
      "85\n",
      "84\n",
      "83\n",
      "82\n",
      "81\n",
      "80\n",
      "79\n",
      "78\n",
      "77\n",
      "76\n",
      "75\n",
      "74\n",
      "73\n",
      "72\n",
      "71\n",
      "70\n",
      "69\n",
      "68\n",
      "67\n",
      "66\n",
      "65\n",
      "64\n",
      "63\n",
      "62\n",
      "61\n",
      "60\n",
      "59\n",
      "58\n",
      "57\n",
      "56\n",
      "55\n",
      "54\n",
      "53\n",
      "52\n",
      "51\n",
      "50\n",
      "49\n",
      "48\n",
      "47\n",
      "46\n",
      "45\n",
      "44\n",
      "43\n",
      "42\n",
      "41\n",
      "40\n",
      "39\n",
      "38\n",
      "37\n",
      "36\n",
      "35\n",
      "34\n",
      "33\n",
      "32\n",
      "31\n",
      "30\n",
      "29\n",
      "28\n",
      "27\n",
      "26\n",
      "25\n",
      "24\n",
      "23\n",
      "22\n",
      "21\n",
      "20\n",
      "19\n",
      "18\n",
      "17\n",
      "16\n",
      "15\n",
      "14\n",
      "13\n",
      "12\n",
      "11\n",
      "10\n",
      "9\n",
      "8\n",
      "7\n",
      "6\n",
      "5\n",
      "4\n",
      "3\n",
      "2\n",
      "1\n",
      "0\n"
     ]
    }
   ],
   "source": [
    "scrolling_page(driver,250)"
   ]
  },
  {
   "cell_type": "code",
   "execution_count": 22,
   "id": "32ee4267",
   "metadata": {},
   "outputs": [
    {
     "name": "stderr",
     "output_type": "stream",
     "text": [
      "100%|██████████████████████████████████████████████████████████████████████████████| 930/930 [00:00<00:00, 2905.70it/s]\n"
     ]
    }
   ],
   "source": [
    "df_reviews = extract_data(driver)"
   ]
  },
  {
   "cell_type": "code",
   "execution_count": 24,
   "id": "99192652",
   "metadata": {},
   "outputs": [
    {
     "data": {
      "text/plain": [
       "930"
      ]
     },
     "execution_count": 24,
     "metadata": {},
     "output_type": "execute_result"
    }
   ],
   "source": [
    "len(df_reviews)"
   ]
  },
  {
   "cell_type": "code",
   "execution_count": 25,
   "id": "c545af49",
   "metadata": {},
   "outputs": [],
   "source": [
    "df_reviews.to_csv(f'./resturaunt_reviews/restaurant_{restaurants_name}.csv',index=False)"
   ]
  },
  {
   "cell_type": "markdown",
   "id": "6ec913b6",
   "metadata": {},
   "source": [
    "# Google maps scarping"
   ]
  },
  {
   "cell_type": "code",
   "execution_count": 143,
   "id": "8d4a5f9b",
   "metadata": {},
   "outputs": [
    {
     "name": "stderr",
     "output_type": "stream",
     "text": [
      "<ipython-input-143-888e732901e4>:2: DeprecationWarning: executable_path has been deprecated, please pass in a Service object\n",
      "  driver = webdriver.Chrome(chromedrive_path)\n"
     ]
    }
   ],
   "source": [
    "chromedrive_path = './chromedriver' \n",
    "driver = webdriver.Chrome(chromedrive_path)\n",
    "driver.maximize_window()\n",
    "#Рестораны в Санкт-Петербурге,Россия\n",
    "page_with_restaurants = 'https://www.google.com/maps/search/%D1%80%D0%B5%D1%81%D1%82%D0%BE%D1%80%D0%B0%D0%BD%D1%8B+%D0%B2+%D0%A1%D0%B0%D0%BD%D0%BA%D1%82-%D0%9F%D0%B5%D1%82%D0%B5%D1%80%D0%B1%D1%83%D1%80%D0%B3,+%D0%A0%D0%BE%D1%81%D1%81%D0%B8%D1%8F/@59.941407,30.3183549,14z/data=!3m1!4b1'"
   ]
  },
  {
   "cell_type": "code",
   "execution_count": 144,
   "id": "62d71d9c",
   "metadata": {},
   "outputs": [],
   "source": [
    "driver.get(page_with_restaurants)\n",
    "wait = WebDriverWait(driver, 10)"
   ]
  },
  {
   "cell_type": "code",
   "execution_count": 146,
   "id": "46338818",
   "metadata": {},
   "outputs": [],
   "source": [
    "def accept_cookies():\n",
    "    #accept cookies\n",
    "    accept_all = wait.until(EC.element_to_be_clickable((By.XPATH, '//button[@aria-label=\\'Принять все\\']')))  \n",
    "    accept_all.click()\n",
    "\n",
    "    #go to pape with all reviews\n",
    "    time.sleep(5)"
   ]
  },
  {
   "cell_type": "code",
   "execution_count": 125,
   "id": "4621703f",
   "metadata": {},
   "outputs": [],
   "source": [
    "all_restaurants=[]\n",
    "all_restaurants_content = driver.page_source\n",
    "all_restaurants_response = Selector(all_restaurants_content)\n",
    "\n",
    "for el in all_restaurants_response.xpath('//div[contains(@aria-label, \"Результаты по запросу\")]/div/div[./a]'):\n",
    "    all_restaurants.append({\n",
    "        'link': el.xpath('./a/@href').extract_first(''),\n",
    "        'title': el.xpath('./a/@aria-label').extract_first('')\n",
    "    })\n",
    "#driver.quit()\n",
    "all_restaurants_df = pd.DataFrame (all_restaurants)"
   ]
  },
  {
   "cell_type": "code",
   "execution_count": 155,
   "id": "584e3c9a",
   "metadata": {},
   "outputs": [],
   "source": [
    "def get_resaurants_addresses(restaurants):\n",
    "    restaurants_info = []\n",
    "    driver_rest = webdriver.Chrome(chromedrive_path)\n",
    "    for rest in restaurants:\n",
    "        #driver = webdriver.Chrome(chromedrive_path)\n",
    "        rest_url = rest['link']\n",
    "        driver_rest.get(rest_url)\n",
    "        driver_rest.maximize_window()\n",
    "        #accept cookies\n",
    "        #accept_all = wait.until(EC.element_to_be_clickable((By.XPATH, '//button[@aria-label=\\'Принять все\\']')))  \n",
    "        #accept_all.click()\n",
    "        #go to pape with all reviews\n",
    "        time.sleep(5)\n",
    "        rest_content = driver_rest.page_source\n",
    "        rest_response = Selector(rest_content)\n",
    "        rest_address = rest_response.xpath('//button[contains(@aria-label, \"Адрес:\")]/@aria-label').extract_first('').split('Адрес: ')[1]        \n",
    "        restaurants_info.append({\n",
    "            'link': rest_url,\n",
    "            'title': rest['title'],\n",
    "            'address': rest_address\n",
    "        })\n",
    "        time.sleep(3)\n",
    "    driver_rest.quit()\n",
    "    #print(restaurants_info)\n",
    "    return restaurants_info"
   ]
  },
  {
   "cell_type": "code",
   "execution_count": 156,
   "id": "09d2883f",
   "metadata": {},
   "outputs": [
    {
     "name": "stderr",
     "output_type": "stream",
     "text": [
      "<ipython-input-155-a7787cb43adb>:3: DeprecationWarning: executable_path has been deprecated, please pass in a Service object\n",
      "  driver_rest = webdriver.Chrome(chromedrive_path)\n"
     ]
    }
   ],
   "source": [
    "restaurants_info_list = get_resaurants_addresses(all_restaurants)"
   ]
  },
  {
   "cell_type": "code",
   "execution_count": 158,
   "id": "11a44155",
   "metadata": {},
   "outputs": [
    {
     "data": {
      "text/html": [
       "<div>\n",
       "<style scoped>\n",
       "    .dataframe tbody tr th:only-of-type {\n",
       "        vertical-align: middle;\n",
       "    }\n",
       "\n",
       "    .dataframe tbody tr th {\n",
       "        vertical-align: top;\n",
       "    }\n",
       "\n",
       "    .dataframe thead th {\n",
       "        text-align: right;\n",
       "    }\n",
       "</style>\n",
       "<table border=\"1\" class=\"dataframe\">\n",
       "  <thead>\n",
       "    <tr style=\"text-align: right;\">\n",
       "      <th></th>\n",
       "      <th>link</th>\n",
       "      <th>title</th>\n",
       "      <th>address</th>\n",
       "    </tr>\n",
       "  </thead>\n",
       "  <tbody>\n",
       "    <tr>\n",
       "      <th>0</th>\n",
       "      <td>https://www.google.com/maps/place/%D0%9C%D0%B0...</td>\n",
       "      <td>Мансарда</td>\n",
       "      <td>Почтамтская ул., 3, Санкт-Петербург, Россия, 1...</td>\n",
       "    </tr>\n",
       "    <tr>\n",
       "      <th>1</th>\n",
       "      <td>https://www.google.com/maps/place/%D0%9B%D0%B5...</td>\n",
       "      <td>Летучий Голландец</td>\n",
       "      <td>Мытнинская наб., 6, Санкт-Петербург, Россия, 1...</td>\n",
       "    </tr>\n",
       "    <tr>\n",
       "      <th>2</th>\n",
       "      <td>https://www.google.com/maps/place/Terrassa/dat...</td>\n",
       "      <td>Terrassa</td>\n",
       "      <td>Казанская ул., 3А, Санкт-Петербург, Россия, 19...</td>\n",
       "    </tr>\n",
       "    <tr>\n",
       "      <th>3</th>\n",
       "      <td>https://www.google.com/maps/place/Birch/data=!...</td>\n",
       "      <td>Birch</td>\n",
       "      <td>Кирочная ул., дом 3, Санкт-Петербург, Россия, ...</td>\n",
       "    </tr>\n",
       "    <tr>\n",
       "      <th>4</th>\n",
       "      <td>https://www.google.com/maps/place/%D0%A0%D0%B5...</td>\n",
       "      <td>Ресторан Ферма на финляндском (Доставка)</td>\n",
       "      <td>Финляндский пр., 1, Санкт-Петербург, Россия, 1...</td>\n",
       "    </tr>\n",
       "  </tbody>\n",
       "</table>\n",
       "</div>"
      ],
      "text/plain": [
       "                                                link  \\\n",
       "0  https://www.google.com/maps/place/%D0%9C%D0%B0...   \n",
       "1  https://www.google.com/maps/place/%D0%9B%D0%B5...   \n",
       "2  https://www.google.com/maps/place/Terrassa/dat...   \n",
       "3  https://www.google.com/maps/place/Birch/data=!...   \n",
       "4  https://www.google.com/maps/place/%D0%A0%D0%B5...   \n",
       "\n",
       "                                      title  \\\n",
       "0                                  Мансарда   \n",
       "1                         Летучий Голландец   \n",
       "2                                  Terrassa   \n",
       "3                                     Birch   \n",
       "4  Ресторан Ферма на финляндском (Доставка)   \n",
       "\n",
       "                                             address  \n",
       "0  Почтамтская ул., 3, Санкт-Петербург, Россия, 1...  \n",
       "1  Мытнинская наб., 6, Санкт-Петербург, Россия, 1...  \n",
       "2  Казанская ул., 3А, Санкт-Петербург, Россия, 19...  \n",
       "3  Кирочная ул., дом 3, Санкт-Петербург, Россия, ...  \n",
       "4  Финляндский пр., 1, Санкт-Петербург, Россия, 1...  "
      ]
     },
     "execution_count": 158,
     "metadata": {},
     "output_type": "execute_result"
    }
   ],
   "source": [
    "restaurants_df.head()"
   ]
  },
  {
   "cell_type": "code",
   "execution_count": 157,
   "id": "34f7fd71",
   "metadata": {},
   "outputs": [],
   "source": [
    "restaurants_df = pd.DataFrame (restaurants_info_list)"
   ]
  },
  {
   "cell_type": "code",
   "execution_count": 160,
   "id": "3314852d",
   "metadata": {},
   "outputs": [],
   "source": [
    "restaurants_df.to_csv('./all_restaurants/all_restaurants_gm.csv',index=False)"
   ]
  },
  {
   "cell_type": "code",
   "execution_count": null,
   "id": "08657a0c",
   "metadata": {},
   "outputs": [],
   "source": []
  },
  {
   "cell_type": "code",
   "execution_count": null,
   "id": "37df6c8f",
   "metadata": {},
   "outputs": [],
   "source": []
  },
  {
   "cell_type": "markdown",
   "id": "467c0074",
   "metadata": {},
   "source": [
    "# Yandex maps scarping"
   ]
  },
  {
   "cell_type": "code",
   "execution_count": 214,
   "id": "88958771",
   "metadata": {},
   "outputs": [],
   "source": [
    "def getall_restaurants_yandex(chromedrive_path,url):    \n",
    "    all_restaurants = []\n",
    "    driver = webdriver.Chrome(chromedrive_path)\n",
    "    driver.get(url)\n",
    "    driver.execute_script(\"window.scrollTo(0, document.body.scrollHeight);\")\n",
    "    #Scroll to Bottom of Webpage\n",
    "    #driver.maximize_window()\n",
    "    #scrollable_div = driver.find_element(By.cssSelector('div.section-layout.section-scrollbox.scrollable-y.scrollable-show'))\n",
    "    #driver.execute_script('arguments[0].scrollTop = arguments[0].scrollHeight', scrollable_div)    #scroll_down_page()\n",
    "    #time.sleep(10)\n",
    "    all_restaurants_content = driver.page_source\n",
    "    all_restaurants_response = Selector(all_restaurants_content)\n",
    "    for el in all_restaurants_response.xpath('//ul[@class=\"search-list-view__list\"]'):\n",
    "        all_restaurants.append({\n",
    "            'link': 'https://yandex.ru'+ el.xpath('./li/div/div/a/@href').extract_first(''),\n",
    "            'title': el.xpath('./li/div/div/a/@aria-label').extract_first('')\n",
    "        })\n",
    "    driver.quit()\n",
    "    return all_restaurants"
   ]
  },
  {
   "cell_type": "code",
   "execution_count": 215,
   "id": "c08ba49b",
   "metadata": {},
   "outputs": [
    {
     "name": "stderr",
     "output_type": "stream",
     "text": [
      "<ipython-input-214-65bb33a6d908>:3: DeprecationWarning: executable_path has been deprecated, please pass in a Service object\n",
      "  driver = webdriver.Chrome(chromedrive_path)\n"
     ]
    }
   ],
   "source": [
    "yandex_maps_ulr  = 'https://yandex.ru/maps/2/saint-petersburg/search/%D0%93%D0%B4%D0%B5%20%D0%BF%D0%BE%D0%B5%D1%81%D1%82%D1%8C/?filter=alternate_vertical%3ARequestWindow&ll=30.280939%2C59.942188&sctx=ZAAAAAgBEAAaKAoSCRR5knTNUD5AEfTF3osv%2BE1AEhIJZVJDG4CN7z8RCOkpcoi40j8iBgABAgMEBSgKOABAAkgBYityZWFycj1zY2hlbWVfTG9jYWwvR2VvL0VuYWJsZUJlYXV0eUZpbHRlcj0xagJydZ0BzcxMPaABAKgBAL0Ba4J7%2BcIBhwHdhc%2FcIJzcwJSWA6%2BK7ta8BLvL6LsEoa%2Fjx8sF%2BJ%2Ft6dkC18fqg5kEscKN0wTpybW8DNqt%2BJgFl%2F%2BFmwSVwfOtsQXF2%2FGYQfqTzojuAavpuZoE7J%2FmqAb3urHA2wTmk8%2FQBKqlxtN6%2BLOezIUF%2B5XPwawGtdeI5AOdlYzjA4DB9u4DouvNswbqAQDyAQD4AQCCAhPQk9C00LUg0L%2FQvtC10YHRgtGMigJcMTg0MTA2MzkwJDE4NDEwNjM4NiQxODQxMDYzOTYkMTg0MTA2MzkyJDE4NDEwNjM4NCQxODQxMDYzOTQkMzUxOTMxMTQ5MzckMTM4Nzc4ODk5NiQ3NzA5MzE1MzeSAgCaAgxkZXNrdG9wLW1hcHM%3D&sll=30.280939%2C59.942188&sspn=0.283161%2C0.083994&z=12.8'\n",
    "yandex_restaurants_list = getall_restaurants_yandex(chromedrive_path,yandex_maps_ulr)"
   ]
  },
  {
   "cell_type": "code",
   "execution_count": 216,
   "id": "5d7a2e38",
   "metadata": {},
   "outputs": [
    {
     "data": {
      "text/plain": [
       "[{'link': 'https://yandex.ru/maps/org/koryushka/8784167645/',\n",
       "  'title': 'Корюшка'}]"
      ]
     },
     "execution_count": 216,
     "metadata": {},
     "output_type": "execute_result"
    }
   ],
   "source": [
    "yandex_restaurants_list"
   ]
  },
  {
   "cell_type": "code",
   "execution_count": null,
   "id": "57b91783",
   "metadata": {},
   "outputs": [],
   "source": [
    "https://yandex.ru/maps/org/koryushka/8784167645/"
   ]
  }
 ],
 "metadata": {
  "kernelspec": {
   "display_name": "Python 3",
   "language": "python",
   "name": "python3"
  },
  "language_info": {
   "codemirror_mode": {
    "name": "ipython",
    "version": 3
   },
   "file_extension": ".py",
   "mimetype": "text/x-python",
   "name": "python",
   "nbconvert_exporter": "python",
   "pygments_lexer": "ipython3",
   "version": "3.8.8"
  }
 },
 "nbformat": 4,
 "nbformat_minor": 5
}
