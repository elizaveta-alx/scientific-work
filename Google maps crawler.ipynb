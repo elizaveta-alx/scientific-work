{
 "cells": [
  {
   "cell_type": "code",
   "execution_count": null,
   "id": "0a901ad1",
   "metadata": {},
   "outputs": [],
   "source": [
    "!pip install selenium\n",
    "!pip install parsel"
   ]
  },
  {
   "cell_type": "code",
   "execution_count": 167,
   "id": "61760527",
   "metadata": {},
   "outputs": [],
   "source": [
    "from selenium import webdriver\n",
    "from parsel import Selector\n",
    "import time \n",
    "import pandas as pd\n",
    "from selenium.webdriver.common.by import By"
   ]
  },
  {
   "cell_type": "code",
   "execution_count": null,
   "id": "033ca2af",
   "metadata": {},
   "outputs": [],
   "source": [
    "scrollable_div = driver.find_element(By.cssSelector('div.section-layout.section-scrollbox.scrollable-y.scrollable-show'))\n",
    "driver.execute_script('arguments[0].scrollTop = arguments[0].scrollHeight', scrollable_div)"
   ]
  },
  {
   "cell_type": "code",
   "execution_count": 157,
   "id": "304d83fb",
   "metadata": {},
   "outputs": [],
   "source": [
    "def scroll_down_page():\n",
    "    SCROLL_PAUSE_TIME = 0.5\n",
    "    while True:\n",
    "        # Get scroll height\n",
    "        ### This is the difference. Moving this *inside* the loop\n",
    "        ### means that it checks if scrollTo is still scrolling \n",
    "        last_height = driver.execute_script(\"return document.body.scrollHeight\")\n",
    "        # Scroll down to bottom\n",
    "        driver.execute_script(\"window.scrollTo(0, document.body.scrollHeight);\")\n",
    "        # Wait to load page\n",
    "        time.sleep(SCROLL_PAUSE_TIME)\n",
    "        # Calculate new scroll height and compare with last scroll height\n",
    "        new_height = driver.execute_script(\"return document.body.scrollHeight\")\n",
    "        if new_height == last_height:\n",
    "            # try again (can be removed)\n",
    "            driver.execute_script(\"window.scrollTo(0, document.body.scrollHeight);\")\n",
    "            # Wait to load page\n",
    "            time.sleep(SCROLL_PAUSE_TIME)\n",
    "            # Calculate new scroll height and compare with last scroll height\n",
    "            new_height = driver.execute_script(\"return document.body.scrollHeight\")\n",
    "            # check if the page height has remained the same\n",
    "            if new_height == last_height:\n",
    "                # if so, you are done\n",
    "                break\n",
    "            # if not, move on to the next loop\n",
    "            else:\n",
    "                last_height = new_height\n",
    "                continue"
   ]
  },
  {
   "cell_type": "markdown",
   "id": "6ec913b6",
   "metadata": {},
   "source": [
    "# Google maps scarping"
   ]
  },
  {
   "cell_type": "code",
   "execution_count": 170,
   "id": "feacd9b6",
   "metadata": {},
   "outputs": [],
   "source": [
    "def getall_restaurants(chromedrive_path,url):    \n",
    "    all_restaurants = []\n",
    "    driver = webdriver.Chrome(chromedrive_path)\n",
    "    driver.get(url)\n",
    "    #Scroll to Bottom of Webpage\n",
    "    driver.maximize_window()\n",
    "    #scrollable_div = driver.find_element(By.cssSelector('div.section-layout.section-scrollbox.scrollable-y.scrollable-show'))\n",
    "    #driver.execute_script('arguments[0].scrollTop = arguments[0].scrollHeight', scrollable_div)    #scroll_down_page()\n",
    "    #time.sleep(10)\n",
    "    all_restaurants_content = driver.page_source\n",
    "    all_restaurants_response = Selector(all_restaurants_content)\n",
    "    for el in all_restaurants_response.xpath('//div[contains(@aria-label, \"Результаты по запросу\")]/div/div[./a]'):\n",
    "        all_restaurants.append({\n",
    "            'link': el.xpath('./a/@href').extract_first(''),\n",
    "            'title': el.xpath('./a/@aria-label').extract_first('')\n",
    "        })\n",
    "    #driver.quit()\n",
    "    return all_restaurants"
   ]
  },
  {
   "cell_type": "code",
   "execution_count": 171,
   "id": "aa1591f3",
   "metadata": {},
   "outputs": [
    {
     "name": "stderr",
     "output_type": "stream",
     "text": [
      "<ipython-input-170-5b7ffe797524>:3: DeprecationWarning: executable_path has been deprecated, please pass in a Service object\n",
      "  driver = webdriver.Chrome(chromedrive_path)\n"
     ]
    }
   ],
   "source": [
    "chromedrive_path = './chromedriver' \n",
    "google_maps_ulr  = 'https://www.google.com/maps/search/%D0%A0%D0%B5%D1%81%D1%82%D0%BE%D1%80%D0%B0%D0%BD%D1%8B+%D1%81%D0%BF%D0%B1/@59.9549593,30.2748781,11z/data=!3m1!4b1'\n",
    "restaurants_list = getall_restaurants(chromedrive_path,google_maps_ulr)"
   ]
  },
  {
   "cell_type": "code",
   "execution_count": 128,
   "id": "584e3c9a",
   "metadata": {},
   "outputs": [],
   "source": [
    "def get_resaurants_addresses(restaurants):\n",
    "    restaurants_info = []\n",
    "    driver = webdriver.Chrome(chromedrive_path)\n",
    "    for rest in restaurants:\n",
    "        #driver = webdriver.Chrome(chromedrive_path)\n",
    "        rest_url = rest['link']\n",
    "        driver.get(rest_url)\n",
    "        rest_content = driver.page_source\n",
    "        rest_response = Selector(rest_content)\n",
    "        rest_address = rest_response.xpath('//button[contains(@aria-label, \"Адрес:\")]/@aria-label').extract_first('').split('Адрес: ')[1]        \n",
    "        restaurants_info.append({\n",
    "            'link': rest_url,\n",
    "            'title': rest['title'],\n",
    "            'address': rest_address\n",
    "        })\n",
    "        time.sleep(3)\n",
    "    driver.quit()\n",
    "    #print(restaurants_info)\n",
    "    return restaurants_info"
   ]
  },
  {
   "cell_type": "code",
   "execution_count": 129,
   "id": "22101074",
   "metadata": {},
   "outputs": [
    {
     "name": "stderr",
     "output_type": "stream",
     "text": [
      "<ipython-input-128-068cd753f679>:3: DeprecationWarning: executable_path has been deprecated, please pass in a Service object\n",
      "  driver = webdriver.Chrome(chromedrive_path)\n"
     ]
    }
   ],
   "source": [
    "restaurants_info_list = get_resaurants_addresses(all_restaurants)"
   ]
  },
  {
   "cell_type": "code",
   "execution_count": 130,
   "id": "75abc24a",
   "metadata": {},
   "outputs": [],
   "source": [
    "restaurant_df = pd.DataFrame (restaurants_info)"
   ]
  },
  {
   "cell_type": "code",
   "execution_count": 121,
   "id": "e103f800",
   "metadata": {},
   "outputs": [],
   "source": [
    "restaurant_df.to_csv('all_restaurants.csv',index=False)"
   ]
  },
  {
   "cell_type": "markdown",
   "id": "467c0074",
   "metadata": {},
   "source": [
    "# Yandex maps scarping"
   ]
  },
  {
   "cell_type": "code",
   "execution_count": 214,
   "id": "88958771",
   "metadata": {},
   "outputs": [],
   "source": [
    "def getall_restaurants_yandex(chromedrive_path,url):    \n",
    "    all_restaurants = []\n",
    "    driver = webdriver.Chrome(chromedrive_path)\n",
    "    driver.get(url)\n",
    "    driver.execute_script(\"window.scrollTo(0, document.body.scrollHeight);\")\n",
    "    #Scroll to Bottom of Webpage\n",
    "    #driver.maximize_window()\n",
    "    #scrollable_div = driver.find_element(By.cssSelector('div.section-layout.section-scrollbox.scrollable-y.scrollable-show'))\n",
    "    #driver.execute_script('arguments[0].scrollTop = arguments[0].scrollHeight', scrollable_div)    #scroll_down_page()\n",
    "    #time.sleep(10)\n",
    "    all_restaurants_content = driver.page_source\n",
    "    all_restaurants_response = Selector(all_restaurants_content)\n",
    "    for el in all_restaurants_response.xpath('//ul[@class=\"search-list-view__list\"]'):\n",
    "        all_restaurants.append({\n",
    "            'link': 'https://yandex.ru'+ el.xpath('./li/div/div/a/@href').extract_first(''),\n",
    "            'title': el.xpath('./li/div/div/a/@aria-label').extract_first('')\n",
    "        })\n",
    "    driver.quit()\n",
    "    return all_restaurants"
   ]
  },
  {
   "cell_type": "code",
   "execution_count": 215,
   "id": "c08ba49b",
   "metadata": {},
   "outputs": [
    {
     "name": "stderr",
     "output_type": "stream",
     "text": [
      "<ipython-input-214-65bb33a6d908>:3: DeprecationWarning: executable_path has been deprecated, please pass in a Service object\n",
      "  driver = webdriver.Chrome(chromedrive_path)\n"
     ]
    }
   ],
   "source": [
    "yandex_maps_ulr  = 'https://yandex.ru/maps/2/saint-petersburg/search/%D0%93%D0%B4%D0%B5%20%D0%BF%D0%BE%D0%B5%D1%81%D1%82%D1%8C/?filter=alternate_vertical%3ARequestWindow&ll=30.280939%2C59.942188&sctx=ZAAAAAgBEAAaKAoSCRR5knTNUD5AEfTF3osv%2BE1AEhIJZVJDG4CN7z8RCOkpcoi40j8iBgABAgMEBSgKOABAAkgBYityZWFycj1zY2hlbWVfTG9jYWwvR2VvL0VuYWJsZUJlYXV0eUZpbHRlcj0xagJydZ0BzcxMPaABAKgBAL0Ba4J7%2BcIBhwHdhc%2FcIJzcwJSWA6%2BK7ta8BLvL6LsEoa%2Fjx8sF%2BJ%2Ft6dkC18fqg5kEscKN0wTpybW8DNqt%2BJgFl%2F%2BFmwSVwfOtsQXF2%2FGYQfqTzojuAavpuZoE7J%2FmqAb3urHA2wTmk8%2FQBKqlxtN6%2BLOezIUF%2B5XPwawGtdeI5AOdlYzjA4DB9u4DouvNswbqAQDyAQD4AQCCAhPQk9C00LUg0L%2FQvtC10YHRgtGMigJcMTg0MTA2MzkwJDE4NDEwNjM4NiQxODQxMDYzOTYkMTg0MTA2MzkyJDE4NDEwNjM4NCQxODQxMDYzOTQkMzUxOTMxMTQ5MzckMTM4Nzc4ODk5NiQ3NzA5MzE1MzeSAgCaAgxkZXNrdG9wLW1hcHM%3D&sll=30.280939%2C59.942188&sspn=0.283161%2C0.083994&z=12.8'\n",
    "yandex_restaurants_list = getall_restaurants_yandex(chromedrive_path,yandex_maps_ulr)"
   ]
  },
  {
   "cell_type": "code",
   "execution_count": 216,
   "id": "5d7a2e38",
   "metadata": {},
   "outputs": [
    {
     "data": {
      "text/plain": [
       "[{'link': 'https://yandex.ru/maps/org/koryushka/8784167645/',\n",
       "  'title': 'Корюшка'}]"
      ]
     },
     "execution_count": 216,
     "metadata": {},
     "output_type": "execute_result"
    }
   ],
   "source": [
    "yandex_restaurants_list"
   ]
  },
  {
   "cell_type": "code",
   "execution_count": null,
   "id": "57b91783",
   "metadata": {},
   "outputs": [],
   "source": [
    "https://yandex.ru/maps/org/koryushka/8784167645/"
   ]
  }
 ],
 "metadata": {
  "kernelspec": {
   "display_name": "Python 3",
   "language": "python",
   "name": "python3"
  },
  "language_info": {
   "codemirror_mode": {
    "name": "ipython",
    "version": 3
   },
   "file_extension": ".py",
   "mimetype": "text/x-python",
   "name": "python",
   "nbconvert_exporter": "python",
   "pygments_lexer": "ipython3",
   "version": "3.8.8"
  }
 },
 "nbformat": 4,
 "nbformat_minor": 5
}
